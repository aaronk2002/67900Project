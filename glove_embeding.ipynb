{
  "nbformat": 4,
  "nbformat_minor": 0,
  "metadata": {
    "colab": {
      "provenance": []
    },
    "kernelspec": {
      "name": "python3",
      "display_name": "Python 3"
    },
    "language_info": {
      "name": "python"
    }
  },
  "cells": [
    {
      "cell_type": "markdown",
      "source": [
        "Embeds input using Stanford GloVe (common crawl data) and saves it."
      ],
      "metadata": {
        "id": "vycZUIFZFIKF"
      }
    },
    {
      "cell_type": "code",
      "source": [
        "import pandas as pd\n",
        "from tqdm import tqdm\n",
        "from random import randint\n",
        "import numpy as np\n",
        "import json\n",
        "import pickle\n",
        "import re\n",
        "from google.colab import drive\n",
        "drive.mount('/drive')\n",
        "import os"
      ],
      "metadata": {
        "colab": {
          "base_uri": "https://localhost:8080/"
        },
        "id": "SXcrv3i3tgzK",
        "outputId": "f4c0fb83-66e7-46ba-ccec-b892847064ce"
      },
      "execution_count": null,
      "outputs": [
        {
          "output_type": "stream",
          "name": "stdout",
          "text": [
            "Drive already mounted at /drive; to attempt to forcibly remount, call drive.mount(\"/drive\", force_remount=True).\n"
          ]
        }
      ]
    },
    {
      "cell_type": "code",
      "source": [
        "file_name = 'reviews_Amazon_Instant_Video_5.json'"
      ],
      "metadata": {
        "id": "lLm2b6cpK6jo"
      },
      "execution_count": null,
      "outputs": []
    },
    {
      "cell_type": "code",
      "source": [
        "# Extracting the GloVe embedder (https://nlp.stanford.edu/projects/glove/)\n",
        "\n",
        "with open('/drive/My Drive/Colab Notebooks/6.7900 project/glove_twitter_25d.pickle', 'rb') as handle:\n",
        "    embedder = pickle.load(handle)\n",
        "d = len(embedder[','])\n",
        "print(drive)"
      ],
      "metadata": {
        "colab": {
          "base_uri": "https://localhost:8080/"
        },
        "id": "2mP11mPbDsSa",
        "outputId": "d2896e5e-1ceb-4851-9d74-3d498a9281e5"
      },
      "execution_count": null,
      "outputs": [
        {
          "output_type": "stream",
          "name": "stdout",
          "text": [
            "<module 'google.colab.drive' from '/usr/local/lib/python3.8/dist-packages/google/colab/drive.py'>\n"
          ]
        }
      ]
    },
    {
      "cell_type": "code",
      "source": [
        "# Extract data\n",
        "\n",
        "reviews = []\n",
        "scores = []\n",
        "n = 0\n",
        "with open(\"/drive/My Drive/Colab Notebooks/6.7900 project/\" + file_name, \"r\") as file:\n",
        "    for line in file:\n",
        "        loaded = json.loads(line)\n",
        "        reviews.append(loaded[\"reviewText\"])\n",
        "        scores.append(loaded[\"overall\"])\n",
        "        n += 1"
      ],
      "metadata": {
        "id": "G6T1aRIbz5r1"
      },
      "execution_count": null,
      "outputs": []
    },
    {
      "cell_type": "code",
      "source": [
        "n"
      ],
      "metadata": {
        "colab": {
          "base_uri": "https://localhost:8080/"
        },
        "id": "DzPc2VDQUWqV",
        "outputId": "7c592e6a-881c-4ed3-86c0-b84b34773816"
      },
      "execution_count": null,
      "outputs": [
        {
          "output_type": "execute_result",
          "data": {
            "text/plain": [
              "37126"
            ]
          },
          "metadata": {},
          "execution_count": 5
        }
      ]
    },
    {
      "cell_type": "code",
      "source": [
        "# Create input and label\n",
        "\n",
        "label = [[0,0,0,0,0] for _ in scores]\n",
        "inp = reviews\n",
        "for idx in range(n):\n",
        "    curr_score = int(scores[idx]) - 1\n",
        "    label[idx][curr_score] = 1"
      ],
      "metadata": {
        "id": "VnUBCbCuuZNT"
      },
      "execution_count": null,
      "outputs": []
    },
    {
      "cell_type": "code",
      "source": [
        "# Randomize\n",
        "\n",
        "for idx in range(1, n):\n",
        "    rand = randint(0, idx)\n",
        "    label[idx], label[rand] = label[rand], label[idx]\n",
        "    inp[idx], inp[rand] = inp[rand], inp[idx]"
      ],
      "metadata": {
        "id": "DEtpVN5pob1e"
      },
      "execution_count": null,
      "outputs": []
    },
    {
      "cell_type": "code",
      "source": [
        "# Embed\n",
        "\n",
        "new_input = []\n",
        "new_label = []\n",
        "max_words = 200  # maximum number of words\n",
        "m = 0\n",
        "for i in range(n):\n",
        "    split_sentence = re.findall(r\"\\w+|[^\\w\\s]\", inp[i], re.UNICODE)\n",
        "    if len(split_sentence) >= max_words:\n",
        "        split_sentence = split_sentence[len(split_sentence)-max_words:]\n",
        "    \n",
        "    new_input.append([])\n",
        "    for _ in range(max_words - len(split_sentence)):\n",
        "        new_input[-1].append(np.zeros(d))\n",
        "    new_input[-1].extend([np.array(embedder.get(word, [0] * d)) for word in split_sentence])\n",
        "\n",
        "    new_label.append(label[i])\n",
        "    m += 1\n",
        "    if i <= 20:\n",
        "        print(split_sentence)\n",
        "\n",
        "new_input = np.array(new_input)\n",
        "new_label = np.array(new_label)\n",
        "\n",
        "print(m)"
      ],
      "metadata": {
        "id": "jmN5QteZ2gKW",
        "colab": {
          "base_uri": "https://localhost:8080/"
        },
        "outputId": "695c0c25-f280-48e3-cf10-0fd43ac7892b"
      },
      "execution_count": null,
      "outputs": [
        {
          "output_type": "stream",
          "name": "stdout",
          "text": [
            "['Joe', 'and', 'the', 'bots', 'are', 'put', 'through', 'a', 'grueling', 'ordeal', 'w', '/', 'LOST', 'CONTINENT', '.', 'They', 'hang', 'on', 'for', 'dear', 'life', 'during', 'the', 'interminably', '-', 'long', '\"', 'mountain', 'climbing', '\"', 'sequence', 'that', 'consumes', 'nearly', 'half', 'the', 'movie', \"'\", 's', 'running', 'time', 'w', '/', 'climbing', '.', '.', '.', 'Climbing', '.', '.', '.', 'CLIMBING', '!', 'A', 'dinosaur', '(', 'aka', ':', 'a', 'tiny', 'lizard', 'filmed', 'from', 'below', ')', 'is', 'glimpsed', ',', 'but', 'even', 'it', 'leaves', 'out', 'of', 'boredom', '.', 'Finally', ',', 'a', 'stop', '-', 'motion', 'brontosaurus', 'lumbers', 'forth', ',', 'only', 'to', 'be', 'filled', 'w', '/', 'lead', '!', 'So', 'little', 'action', 'takes', 'place', ',', 'that', 'Joel', 'nearly', 'lapses', 'into', 'a', 'coma', '!', 'Luckily', ',', 'through', 'the', 'wonders', 'of', 'MST3K', 'technology', ',', 'this', 'film', 'is', 'rendered', '(', 'nearly', ')', 'harmless', '.', 'Let', 'us', 'thank', 'these', 'brave', 'lads', '.', '.', '.']\n",
            "['Psy', '-', 'Max', 'corporation', 'is', 'about', 'to', 'start', 'selling', 'Nirvana', ',', 'a', 'miracle', 'drug', 'that', 'will', 'eradicate', 'all', 'addiction', '.', 'Nirvana', 'works', 'by', 'producing', 'endorphins', 'in', 'the', 'brain', '.', 'Unfortunately', ',', 'corruption', ',', 'scandal', ',', 'and', 'murder', 'threaten', 'to', 'derail', 'the', 'project', '.', 'Meanwhile', ',', 'a', 'mutant', 'creature', 'is', 'attacking', 'unwary', 'victims', ',', 'piercing', 'their', 'skulls', ',', 'and', 'sucking', 'out', 'their', 'brains', '!', 'Could', 'there', 'be', 'some', 'connection', 'between', 'Psy', '-', 'Max', 'and', 'this', 'murderous', 'monster', '?', 'BRAINIAC', 'is', 'a', 'low', '-', 'budget', 'remake', ',', 'loosely', 'based', 'on', 'the', 'original', 'cheeeze', '-', 'fiesta', 'from', 'Mexico', '.', 'This', 'version', 'is', 'every', 'bit', 'as', 'ridiculous', 'as', 'the', 'original', '.', 'Having', 'set', 'the', 'bar', 'rather', 'low', 'for', 'BRAINIAC', ',', 'I', 'was', 'not', 'disappointed', '.', 'I', 'especially', 'enjoyed', 'the', 'tough', ',', '\"', 'street', '\"', 'lingo', 'used', 'by', 'the', 'biker', 'dude', 'and', 'the', 'drug', 'dealer', '!', 'Priceless', '!', 'Just', 'wait', 'until', 'you', 'see', 'the', 'BRAINIAC', 'him', '/', 'itself', '!', 'What', 'a', 'hoot', '!', '.', '.', '.']\n",
            "['This', 'is', 'another', 'sloppy', 'metaphor', 'of', 'all', 'the', 'struggles', 'and', 'compromises', 'an', 'artist', 'must', 'go', 'through', 'to', 'produce', 'something', 'of', 'any', 'quality', '.', 'Don', \"'\", 't', 'expect', 'any', 'of', 'it', 'to', 'make', 'sense', 'in', 'a', 'literal', 'way', '.', 'It', 'would', 'have', 'been', 'more', 'compelling', 'if', 'the', 'sheriff', 'had', 'sued', ',', 'threatened', ',', 'or', 'even', 'framed', 'him', 'for', 'a', 'crime', 'in', 'order', 'to', 'get', 'his', '\"', 'fair', 'share', '.', '\"', 'The', '\"', 'children', '\"', 'and', '\"', 'Poe', '\"', 'seemed', 'like', 'irrelevant', 'filler', '.']\n",
            "['try', 'other', 'things', '.', '&', '#', '34', ';', 'Jack', 'Begosian', '(', 'Garcia', ')', 'is', 'a', 'former', 'CIA', 'operative', 'who', 'is', 'now', 'a', 'talk', 'show', 'host', 'talking', 'about', 'important', 'issues', '.', 'Bruce', 'Swinton', '(', 'Coates', ')', 'is', 'the', 'head', 'of', 'a', 'large', 'corporation', 'who', 'has', 'just', 'found', 'out', 'about', 'a', 'huge', 'problem', 'with', 'his', 'company', 'and', 'a', 'local', 'African', 'community', '.', 'When', 'his', 'sister', 'wants', 'him', 'to', 'tell', 'the', 'truth', 'he', 'fights', 'her', 'and', 'she', 'hires', 'Jack', 'to', 'go', 'in', 'and', 'expose', 'what', 'is', 'going', 'on', 'in', 'the', 'country', '.', 'This', 'is', 'a', 'very', 'important', 'movie', 'that', 'should', 'be', 'seen', 'by', 'more', 'people', 'then', 'will', 'actually', 'see', 'it', '.', 'Very', 'engrossing', 'and', 'informative', 'and', 'worth', 'seeing', '.', 'The', 'only', 'real', 'problem', 'I', 'have', 'is', 'that', 'it', 'plays', 'almost', 'more', 'like', 'a', 'Dateline', 'or', '60', 'Minutes', 'type', 'story', 'then', 'a', 'movie', '.', 'I', \"'\", 'm', 'not', 'saying', 'that', 'that', 'is', 'a', 'bad', 'thing', 'but', 'that', \"'\", 's', 'what', 'I', 'was', 'reminded', 'of', '.', 'The', 'acting', 'is', 'great', 'and', 'I', 'recommend', 'this', 'but', 'be', 'ready', 'for', 'this', 'type', 'of', 'movie', '.', 'Overall', ',', 'a', 'very', 'important', 'movie', 'that', 'may', 'have', 'the', 'possibility', 'to', 'change', 'things', '.', 'I', 'give', 'it', 'a', 'B', '+', '.']\n",
            "['I', 'wish', 'they', 'would', 'have', 'finished', 'the', 'season', ',', 'kind', 'of', 'a', 'let', 'down', '.', 'I', 'am', 'going', 'to', 'buy', 'the', 'books', 'though', '.', 'I', 'hope', 'the', 'money', 'goes', 'to', 'the', 'author', 'and', 'not', 'the', 'short', 'visioned', 'dweebs', 'who', 'dropped', 'the', 'series', '!']\n",
            "['This', 'is', 'the', 'kind', 'of', 'show', 'that', 'keeps', 'you', 'watching', 'week', 'to', 'week', '.', 'Good', 'acting', ',', 'good', 'story', 'line', '.', 'I', 'certainly', 'hope', 'this', 'gets', 'passed', 'through', '.', 'I', 'know', 'I', 'would', 'love', 'this', 'show', '.', 'It', \"'\", 's', 'the', 'kind', 'of', 'real', ',', 'raw', 'stuff', 'you', 'only', 'used', 'to', 'get', 'through', 'channels', 'like', 'HBO', '.']\n",
            "['Another', 'good', 'series', ',', 'but', 'still', 'requires', 'one', 'to', 'not', 'miss', 'any', 'episode', 'in', 'the', 'series', 'or', 'will', 'lose', 'the', 'story']\n",
            "['I', 'found', 'this', 'series', 'to', 'be', 'well', 'written', ',', 'keeps', 'your', 'interest', 'and', 'each', 'episode', 'leaves', 'you', 'wanting', 'more', '.', 'Definitely', 'worth', 'the', 'time', 'and', 'money', '.']\n",
            "['there', 'can', 'be', 'light', 'again', '.', '.', '.', 'if', 'death', 'doesn', \"'\", 't', 'intervene', '!', 'Yes', ',', 'I', 'do', 'understand', 'addiction', 'and', 'the', 'absolute', 'need', 'for', 'intervention', 'and', 'treatment', '.', 'Diagnosing', 'an', 'infectious', 'disease', 'process', 'for', 'substance', 'abusers', 'requires', 'treating', 'both', 'conditions', '.', '.', '.', 'it', \"'\", 's', 'the', 'same', 'body', '/', 'mind', '.', 'It', 'was', 'past', 'difficult', 'to', 'observe', 'that', 'one', 'intervention', 'and', 'this', 'is', 'certainly', 'an', 'accurate', 'portrayal', 'of', 'the', \"'\", 'real', \"'\", 'one', '.', 'Recommended', '?', 'That', \"'\", 's', 'a', 'good', 'question', 'that', 'I', 'don', \"'\", 't', 'have', 'a', 'glib', 'answer', 'for', '.', '.', '.', 'those', 'considering', 'an', 'intervention', '?', 'Substance', 'abusers', '?', 'Those', 'interested', 'in', 'human', 'behavior', '?', 'Perhaps', 'one', 'episode', 'if', 'you', 'are', 'interested', 'in', 'finding', 'a', 'few', 'answers', 'to', 'your', 'own', 'questions', '.', 'I', \"'\", 've', 'viewed', \"'\", 'Chasing', 'The', 'White', 'Dragon', ',', \"'\", \"'\", 'The', 'Global', 'Addiction', ',', \"'\", \"'\", 'Afghanistan', ':', 'The', 'Opium', 'Trail', ',', \"'\", 'and', \"'\", 'One', 'Man', \"'\", 's', 'Seduction', '.', \"'\", 'If', 'you', 'have', 'an', 'interest', 'in', 'grower', 'to', 'user', ',', \"'\", 'The', 'Global', 'Addiction', \"'\", 'is', 'a', '30', 'min', 'overview', 'by', 'ABC', 'Australia', ',', 'that', 'is', 'well', 'narrated', 'and', 'reasonably', 'accurate', '.', '[', 'Season', '10', 'review', ']']\n",
            "['Canadian', 'productions', 'have', 'a', 'look', 'that', 'permeates', 'the', 'impression', 'of', 'the', 'entire', 'story', '.', 'However', ',', 'Rachel', 'Nichols', 'is', 'very', 'fun', 'to', 'look', 'at', 'and', 'occasionally', 'strangely', 'socially', 'awkward', '.', 'In', 'addition', 'to', 'the', 'attractively', 'amusing', 'lead', ',', 'there', 'are', 'a', 'few', 'scenes', 'where', 'the', 'doesn', \"'\", 't', 'make', 'any', 'sense', 'hedonistic', 'terrorist', 'self', '-', 'described', 'pawn', 'surnamed', 'Kellogg', 'comes', 'across', 'as', 'very', 'likeable', 'as', 'well', 'as', 'the', 'season', 'finale', 'where', 'the', 'sidekick', 'comes', 'across', 'very', 'well', '.', 'The', 'show', 'is', 'fun', 'in', 'a', 'kind', 'of', 'Linda', 'Carter', 'as', 'Wonder', 'Woman', 'way', '.', 'She', \"'\", 's', 'so', 'young', 'and', 'pretty', 'and', 'doing', 'impossible', 'things', 'and', 'the', 'story', 'is', 'unique', '.', 'The', 'hints', 'at', 'future', 'technology', 'in', 'every', 'episode', 'are', 'worth', 'noting', 'as', 'I', \"'\", 'm', 'sure', 'they', 'are', 'actually', 'but', 'secretly', 'doable', 'already', 'such', 'as', 'Cell', 'Phone', 'Towers', 'cascading', 'their', 'radiation', 'to', 'create', 'a', 'picture', 'of', 'what', 'is', 'going', 'on', 'behind', 'solid', 'walls', 'in', 'private', 'homes', '.']\n",
            "['The', 'Daily', 'Show', 'with', 'Jon', 'Stewart', 'is', 'a', 'fantastic', 'poke', '-', 'fun', 'and', 'point', 'out', 'the', 'absurdity', 'of', 'our', 'political', 'system', 'and', 'the', 'people', 'who', 'are', 'such', 'an', 'easy', 'target', 'because', 'they', 'do', 'not', 'live', 'in', 'the', 'same', 'world', 'the', 'rest', 'of', 'us', 'do', '.']\n",
            "['Rueda', ',', 'delivers', 'an', 'exquisite', 'performance', 'that', 'comes', 'off', 'naturally', '.', 'The', 'film', 'itself', 'is', 'the', 'perfect', 'formula', 'for', 'a', 'horror', 'movie', '.', 'But', 'herein', 'lays', 'one', 'of', 'the', 'few', 'flaws', 'of', 'this', 'film', ':', 'it', 'is', 'too', 'formulaic', '.', 'If', 'you', 'have', 'seen', 'as', 'many', 'horror', '/', 'suspense', 'movies', 'as', 'I', 'have', ',', 'you', 'will', 'be', 'able', 'to', 'predict', 'what', 'happens', 'in', 'this', 'film', 'to', 'a', 'T', '.', 'A', 'bit', 'predicable', 'to', 'the', 'horror', 'fan', ',', 'the', 'movie', 'still', 'manages', 'to', 'deliver', 'great', 'suspenseful', 'scenes', 'that', 'made', 'pause', 'and', 'become', 'absorbed', 'in', 'the', 'film', '.', 'There', 'were', 'some', 'scenes', 'that', 'should', 'have', 'been', 'edited', 'out', ',', 'but', 'the', 'film', 'had', 'a', 'great', 'pacing', ',', 'building', 'the', 'suspense', 'on', 'each', 'and', 'every', 'scene', '.', 'The', 'movie', 'had', 'great', 'pacing', 'and', 'great', 'horror', 'moments', 'that', 'left', 'you', 'wanting', 'to', 'see', 'more', '.', 'The', 'cinematography', 'and', 'direction', 'are', 'the', 'best', 'aspects', 'of', 'this', 'movie', 'and', 'what', 'gives', 'it', 'that', 'great', 'feeling', 'of', 'suspense', 'throughout', '.', 'The', 'storyline', 'itself', 'was', 'pretty', 'good', ',', 'but', 'left', 'many', 'things', 'unexplained', '.', 'I', 'think', 'that', 'many', 'aspects', 'were', 'inconclusive', 'and', 'unfinished', '.', 'Still', ',', 'the', 'film', 'is', 'really', 'good', 'and', 'it', 'is', 'one', 'to', 'watch', '.']\n",
            "['work', 'in', 'general', '.', 'It', 'slightly', 'hinted', 'towards', 'it', 'here', 'and', 'there', ',', 'but', 'when', 'you', 'only', 'have', 'one', 'chance', 'to', 'make', 'an', 'impression', ',', 'such', 'as', 'a', 'possible', 'one', '-', 'time', 'pilot', ',', 'you', 'need', 'to', 'make', 'it', 'something', 'memorable', '.', 'They', 'failed', 'in', 'this', 'regard', '.', 'However', ',', 'they', 'were', 'able', 'to', 'capture', 'his', 'dedication', 'to', 'the', 'job', ',', 'as', 'demonstrated', 'when', 'he', 'steals', 'case', 'files', 'and', 'visits', 'crime', 'scenes', 'late', 'into', 'the', 'night', '.', 'Perhaps', 'I', 'was', 'expecting', 'too', 'much', 'based', 'on', 'my', 'readings', 'of', 'the', 'novels', '.', 'I', 'think', 'the', 'ultimate', 'test', 'is', 'the', 'answer', 'to', 'the', 'question', ',', 'would', 'I', 'watch', 'it', 'on', 'a', 'regular', 'basis', 'if', 'I', 'had', 'no', 'prior', 'knowledge', 'of', 'the', 'books', '.', 'To', 'be', 'completely', 'honest', ',', 'based', 'solely', 'on', 'the', 'pilot', 'I', 'can', 'say', 'a', 'definite', 'no', '.', 'It', 'didn', \"'\", 't', 'stand', 'out', 'any', 'from', 'the', 'many', 'other', 'detective', '/', 'courtroom', 'dramas', 'already', 'in', 'production', '.', 'Maybe', 'as', 'the', 'character', 'is', 'able', 'to', 'be', 'developed', 'more', ',', 'if', 'the', 'series', 'is', 'picked', 'up', ',', 'things', 'will', 'improve', '.', 'For', 'the', 'time', 'being', ',', 'Bosch', 'needs', 'to', 'work', 'on', 'making', 'a', 'name', 'for', 'himself', 'before', 'it', 'is', 'too', 'late', '.']\n",
            "['I', 'think', 'the', 'show', 'is', 'entertaining', '.', 'Sometimes', 'it', 'makes', 'me', 'laugh', '.', 'I', 'think', 'it', 'is', 'worth', 'the', 'cost', '.', 'See', 'more', 'at', 'vyctorynotes', 'dot', 'blogspot', 'dot', 'com', '.']\n",
            "['This', 'show', 'is', 'too', 'good', '.', 'I', 'can', \"'\", 't', 'help', 'but', 'put', 'this', 'one', 'all', 'the', 'time', '.', 'The', 'set', 'is', 'nice', 'n', 'small', 'in', 'size', 'so', 'it', 'doesn', \"'\", 't', 'take', 'a', 'lot', 'of', 'room', 'on', 'the', 'self', '.']\n",
            "['This', 'movie', 'is', 'AWESOME', '.', 'A', 'total', 'chic', 'flick', '.', 'Isla', 'Fisher', \"'\", 's', 'character', 'is', 'similar', 'to', 'the', 'character', 'she', 'played', 'in', 'Wedding', 'Crashers', '.', 'I', 'literally', 'laughed', 'so', 'hard', 'my', 'stomach', 'hurt', '.']\n",
            "['This', 'is', 'a', 'series', 'that', 'grabs', 'you', 'and', 'holds', '.', 'There', 'are', 'gray', 'areas', 'in', 'everyone', \"'\", 's', 'life', 'and', 'interactions', 'they', 'have', 'had', 'in', 'their', 'family', 'and', 'in', 'their', 'past', 'keeps', 'the', 'viewer', 'intrigued', '.']\n",
            "['Elementary', 'is', 'entertaining', '.', 'I', 'recommend', 'it', 'for', 'the', 'primary', 'reason', 'it', 'is', 'keeping', 'one', 'of', 'literatures', 'great', 'characters', 'alive', 'one', 'hundred', 'and', 'twenty', 'some', 'odd', 'years', 'after', 'he', 'was', 'created', '.', 'Now', 'that', 'is', 'a', 'viable', 'character', ';', 'and', 'there', 'aren', \"'\", 't', 'that', 'many', 'to', 'begin', 'with', '.', 'Plus', ',', 'Sherlock', 'Holmes', 'the', 'character', 'something', 'to', 'teach', 'about', 'observation', '.', 'The', 'programme', 'itself', 'is', 'Ok', 'in', 'my', 'opinion', '.', 'Don', \"'\", 't', 'expect', 'to', 'be', 'electrified', ',', 'though', 'those', 'new', 'to', 'the', 'character', 'might', 'be', 'electrified', 'by', 'the', 'mental', 'acuity', 'of', 'Holmes', '.']\n",
            "['Don', \"'\", 't', 'waste', 'your', 'time', 'with', 'season', 'two', '.', 'She', 'could', 'be', 'fun', 'if', 'she', 'wasn', \"'\", 't', 'so', 'hateful', 'inside', '.', 'Not', 'good', '.', 'Yuck', '.']\n",
            "['A', 'very', 'interesting', 'premise', ':', 'can', 'a', 'man', 'with', 'eidetic', 'memory', 'and', 'perfect', 'score', 'on', 'LSAT', 'play', 'a', 'lawyer', 'without', 'having', 'even', 'been', 'tocollege', 'let', 'alone', 'law', 'school', '?', 'More', 'broadly', ',', 'do', 'lawyers', 'have', 'scruples', 'and', '/', 'or', 'consciences', '?', 'The', 'series', 'attempts', 'to', 'answer', 'thesequestions', 'through', 'video', 'narratives', '.']\n",
            "['I', 'watched', 'this', 'show', 'when', 'it', 'first', 'came', 'out', 'on', 'H', '.', 'B', '.', 'O', '.', 'and', 'I', 'really', 'liked', 'it', '.', 'If', 'you', 'like', 'shows', 'about', 'Romans', 'and', 'such', ',', 'give', 'this', 'show', 'a', 'try', '.', 'The', 'show', 'follows', 'two', 'family', \"'\", 's', '.', 'One', 'rich', 'and', 'one', 'poor', '.', 'You', 'really', 'get', 'hooked', 'trying', 'to', 'figure', 'out', 'what', 'will', 'happen', 'to', 'these', 'two', 'family', \"'\", 's', '.']\n",
            "37126\n"
          ]
        }
      ]
    },
    {
      "cell_type": "code",
      "source": [
        "print(new_input.shape)\n",
        "print(new_label.shape)\n",
        "print(new_input[0])"
      ],
      "metadata": {
        "colab": {
          "base_uri": "https://localhost:8080/"
        },
        "id": "f8yZP0rSXX8U",
        "outputId": "a983c916-8526-4ecd-8caa-6acdf0b4a87f"
      },
      "execution_count": null,
      "outputs": [
        {
          "output_type": "stream",
          "name": "stdout",
          "text": [
            "(37126, 200, 25)\n",
            "(37126, 5)\n",
            "[[ 0.       0.       0.      ...  0.       0.       0.     ]\n",
            " [ 0.       0.       0.      ...  0.       0.       0.     ]\n",
            " [ 0.       0.       0.      ...  0.       0.       0.     ]\n",
            " ...\n",
            " [ 0.69586 -1.1469  -0.41797 ... -0.67877  0.7061   0.40833]\n",
            " [ 0.69586 -1.1469  -0.41797 ... -0.67877  0.7061   0.40833]\n",
            " [ 0.69586 -1.1469  -0.41797 ... -0.67877  0.7061   0.40833]]\n"
          ]
        }
      ]
    },
    {
      "cell_type": "code",
      "source": [
        "# Save data\n",
        "\n",
        "if os.path.exists('/drive/My Drive/Colab Notebooks/6.7900 project/reviews_amazon_instant_video_twitterglove.npy'):\n",
        "    os.remove('/drive/My Drive/Colab Notebooks/6.7900 project/reviews_amazon_instant_video_twitterglove.npy')\n",
        "    print('path deleted')\n",
        "\n",
        "with open('/drive/My Drive/Colab Notebooks/6.7900 project/reviews_amazon_instant_video_twitterglove.npy', 'wb') as f:\n",
        "    np.save(f, new_input)\n",
        "    np.save(f, new_label)"
      ],
      "metadata": {
        "id": "GcGRO-fLUmiT",
        "colab": {
          "base_uri": "https://localhost:8080/"
        },
        "outputId": "d575d133-8964-46ac-f20e-194656e9415d"
      },
      "execution_count": null,
      "outputs": [
        {
          "output_type": "stream",
          "name": "stdout",
          "text": [
            "path deleted\n"
          ]
        }
      ]
    }
  ]
}