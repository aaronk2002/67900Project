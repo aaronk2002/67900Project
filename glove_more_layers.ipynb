{
  "cells": [
    {
      "cell_type": "code",
      "execution_count": null,
      "metadata": {
        "colab": {
          "base_uri": "https://localhost:8080/"
        },
        "id": "SXcrv3i3tgzK",
        "outputId": "ea18b9cc-e58e-429e-9dcd-ccc311384c8a"
      },
      "outputs": [
        {
          "name": "stdout",
          "output_type": "stream",
          "text": [
            "Mounted at /drive\n"
          ]
        }
      ],
      "source": [
        "import pandas as pd\n",
        "import matplotlib.pyplot as plt\n",
        "import keras\n",
        "from tqdm import tqdm\n",
        "from random import randint\n",
        "from tensorflow.keras.preprocessing.text import Tokenizer\n",
        "from tensorflow.keras.preprocessing.sequence import pad_sequences\n",
        "from tensorflow.keras.models import Sequential\n",
        "from tensorflow.keras.layers import LSTM,Dense, Dropout, SpatialDropout1D\n",
        "from tensorflow.keras.layers import Embedding\n",
        "from tensorflow.keras.layers import Lambda\n",
        "from tensorflow.keras.losses import MeanSquaredError\n",
        "from tensorflow.keras.layers import InputLayer\n",
        "import numpy as np\n",
        "import json\n",
        "from google.colab import drive\n",
        "drive.mount('/drive')"
      ]
    },
    {
      "cell_type": "code",
      "execution_count": null,
      "metadata": {
        "id": "SrAnBIGbWBCl"
      },
      "outputs": [],
      "source": [
        "# Extract input and labels\n",
        "with open('/drive/My Drive/6.7900 project/reviews_amazon_instant_video_twitterglove.npy', 'rb') as f:\n",
        "    input = np.load(f, allow_pickle=True)\n",
        "    labels = np.load(f, allow_pickle=True)"
      ]
    },
    {
      "cell_type": "code",
      "execution_count": null,
      "metadata": {
        "colab": {
          "base_uri": "https://localhost:8080/"
        },
        "id": "SheGZnAev1wX",
        "outputId": "32ef29cb-4480-4bc8-a10c-5b7592fe5811"
      },
      "outputs": [
        {
          "name": "stdout",
          "output_type": "stream",
          "text": [
            "Model: \"sequential\"\n",
            "_________________________________________________________________\n",
            " Layer (type)                Output Shape              Param #   \n",
            "=================================================================\n",
            " LSTM1 (LSTM)                (None, 200, 50)           15200     \n",
            "                                                                 \n",
            " Dropout1 (Dropout)          (None, 200, 50)           0         \n",
            "                                                                 \n",
            " LSTM2 (LSTM)                (None, 200, 50)           20200     \n",
            "                                                                 \n",
            " Dropout2 (Dropout)          (None, 200, 50)           0         \n",
            "                                                                 \n",
            " LSTM3 (LSTM)                (None, 50)                20200     \n",
            "                                                                 \n",
            " Dense (Dense)               (None, 5)                 255       \n",
            "                                                                 \n",
            "=================================================================\n",
            "Total params: 55,855\n",
            "Trainable params: 55,855\n",
            "Non-trainable params: 0\n",
            "_________________________________________________________________\n",
            "None\n"
          ]
        }
      ],
      "source": [
        "# Architecture\n",
        "model = Sequential()\n",
        "model.add(InputLayer(input_shape=(input.shape[1], input.shape[2]), name='Input_Layer'))\n",
        "model.add(LSTM(50, return_sequences=True, name='LSTM1'))\n",
        "model.add(Dropout(0.5, name='Dropout1'))\n",
        "model.add(LSTM(50, return_sequences=True, name='LSTM2'))\n",
        "model.add(Dropout(0.5, name='Dropout2'))\n",
        "model.add(LSTM(50, name='LSTM3'))\n",
        "model.add(Dense(5, activation='softmax', name='Dense'))\n",
        "model.compile(loss='categorical_crossentropy',optimizer='adam',metrics=['accuracy'])\n",
        "print(model.summary())"
      ]
    },
    {
      "cell_type": "code",
      "execution_count": null,
      "metadata": {
        "colab": {
          "base_uri": "https://localhost:8080/"
        },
        "id": "qbpGUFDmv3nK",
        "outputId": "276c44c9-4323-4be8-b590-03a61c957daf"
      },
      "outputs": [
        {
          "name": "stdout",
          "output_type": "stream",
          "text": [
            "Epoch 1/10\n",
            "929/929 [==============================] - 318s 336ms/step - loss: 1.1389 - accuracy: 0.5590 - val_loss: 1.0869 - val_accuracy: 0.5720\n",
            "Epoch 2/10\n",
            "929/929 [==============================] - 308s 331ms/step - loss: 1.0649 - accuracy: 0.5657 - val_loss: 1.0731 - val_accuracy: 0.5768\n",
            "Epoch 3/10\n",
            "929/929 [==============================] - 307s 331ms/step - loss: 1.0332 - accuracy: 0.5763 - val_loss: 1.0116 - val_accuracy: 0.5914\n",
            "Epoch 4/10\n",
            "929/929 [==============================] - 307s 331ms/step - loss: 1.0045 - accuracy: 0.5838 - val_loss: 0.9976 - val_accuracy: 0.6010\n",
            "Epoch 5/10\n",
            "929/929 [==============================] - 305s 328ms/step - loss: 0.9819 - accuracy: 0.5943 - val_loss: 0.9805 - val_accuracy: 0.6072\n",
            "Epoch 6/10\n",
            "929/929 [==============================] - 310s 334ms/step - loss: 0.9661 - accuracy: 0.6015 - val_loss: 0.9795 - val_accuracy: 0.6052\n",
            "Epoch 7/10\n",
            "929/929 [==============================] - 307s 331ms/step - loss: 0.9566 - accuracy: 0.6014 - val_loss: 0.9763 - val_accuracy: 0.6068\n",
            "Epoch 8/10\n",
            "929/929 [==============================] - 305s 328ms/step - loss: 0.9437 - accuracy: 0.6087 - val_loss: 0.9737 - val_accuracy: 0.5975\n",
            "Epoch 9/10\n",
            "929/929 [==============================] - 314s 338ms/step - loss: 0.9310 - accuracy: 0.6140 - val_loss: 0.9509 - val_accuracy: 0.6123\n",
            "Epoch 10/10\n",
            "929/929 [==============================] - 315s 339ms/step - loss: 0.9182 - accuracy: 0.6174 - val_loss: 0.9619 - val_accuracy: 0.6013\n"
          ]
        }
      ],
      "source": [
        "# Training\n",
        "training = model.fit(input, labels, validation_split=0.2, epochs=10, batch_size=32)"
      ]
    },
    {
      "cell_type": "code",
      "execution_count": null,
      "metadata": {
        "colab": {
          "base_uri": "https://localhost:8080/",
          "height": 268
        },
        "id": "UMFJCq1hv66Q",
        "outputId": "d3576eb2-7e7d-4089-c89b-9710d090f3ae"
      },
      "outputs": [
        {
          "data": {
            "image/png": "[encoded data removed]",
            "text/plain": [
              "<Figure size 432x288 with 1 Axes>"
            ]
          },
          "metadata": {
            "needs_background": "light"
          },
          "output_type": "display_data"
        }
      ],
      "source": [
        "# Plot Accuracy\n",
        "plt.plot(training.history['accuracy'], label='acc')\n",
        "plt.plot(training.history['val_accuracy'], label='val_acc')\n",
        "plt.legend()\n",
        "plt.show()"
      ]
    },
    {
      "cell_type": "code",
      "execution_count": null,
      "metadata": {
        "colab": {
          "base_uri": "https://localhost:8080/",
          "height": 282
        },
        "id": "ti4XWWjrwftI",
        "outputId": "ded31ad4-5752-4a0a-ce24-15ab009f3162"
      },
      "outputs": [
        {
          "data": {
            "image/png": "[encoded data removed]",
            "text/plain": [
              "<Figure size 432x288 with 1 Axes>"
            ]
          },
          "metadata": {
            "needs_background": "light"
          },
          "output_type": "display_data"
        },
        {
          "data": {
            "text/plain": [
              "<Figure size 432x288 with 0 Axes>"
            ]
          },
          "metadata": {},
          "output_type": "display_data"
        }
      ],
      "source": [
        "# Plot Loss\n",
        "plt.plot(training.history['loss'], label='loss')\n",
        "plt.plot(training.history['val_loss'], label='val_loss')\n",
        "plt.legend()\n",
        "plt.show()\n",
        "plt.savefig(\"Loss plt.jpg\")"
      ]
    }
  ],
  "metadata": {
    "colab": {
      "provenance": []
    },
    "kernelspec": {
      "display_name": "Python 3",
      "language": "python",
      "name": "python3"
    },
    "language_info": {
      "name": "python",
      "version": "3.10.2 (tags/v3.10.2:a58ebcc, Jan 17 2022, 14:12:15) [MSC v.1929 64 bit (AMD64)]"
    },
    "vscode": {
      "interpreter": {
        "hash": "afb734500600fd355917ca529030176ea0ca205570884b88f2f6f7d791fd3fbe"
      }
    }
  },
  "nbformat": 4,
  "nbformat_minor": 0
}
