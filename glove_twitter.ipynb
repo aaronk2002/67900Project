{
  "cells": [
    {
      "cell_type": "code",
      "execution_count": null,
      "metadata": {
        "colab": {
          "base_uri": "https://localhost:8080/"
        },
        "id": "1tDxeMA32a5Q",
        "outputId": "f065f1e9-cb94-4b3e-fbed-6595c24bf891"
      },
      "outputs": [
        {
          "name": "stdout",
          "output_type": "stream",
          "text": [
            "Drive already mounted at /drive; to attempt to forcibly remount, call drive.mount(\"/drive\", force_remount=True).\n"
          ]
        }
      ],
      "source": [
        "from google.colab import drive\n",
        "drive.mount('/drive')\n",
        "import pickle\n",
        "import numpy as np"
      ]
    },
    {
      "cell_type": "code",
      "execution_count": null,
      "metadata": {
        "id": "zU1tippn2u5c"
      },
      "outputs": [],
      "source": [
        "with open(\"/drive/My Drive/6.7900 project/glove_twitter_25d.txt\", \"r\") as file:\n",
        "    # count = 500000\n",
        "    new_str = \"\"\n",
        "    dic = {}\n",
        "    while True:    \n",
        "      char = file.read(1)         \n",
        "      if not char:\n",
        "          break\n",
        "      if char == '\\n':\n",
        "          parsed = new_str.split(\" \")\n",
        "          word = parsed[0].lower()\n",
        "          embed = [float(num) for num in parsed[1:]]\n",
        "          dic[word] = embed\n",
        "          new_str = \"\"\n",
        "          # count -= 1\n",
        "          # if count == 0:\n",
        "          #     break\n",
        "      else:\n",
        "          new_str += char"
      ]
    },
    {
      "cell_type": "code",
      "execution_count": null,
      "metadata": {
        "id": "EPiburpp2RDm"
      },
      "outputs": [],
      "source": [
        "with open('/drive/My Drive/6.7900 project/glove_twitter_25d.pickle', 'wb') as handle:\n",
        "    pickle.dump(dic, handle, protocol=pickle.HIGHEST_PROTOCOL)"
      ]
    },
    {
      "cell_type": "code",
      "execution_count": null,
      "metadata": {
        "id": "b57DTx1jALNw"
      },
      "outputs": [],
      "source": []
    }
  ],
  "metadata": {
    "colab": {
      "provenance": []
    },
    "kernelspec": {
      "display_name": "Python 3",
      "language": "python",
      "name": "python3"
    },
    "language_info": {
      "name": "python",
      "version": "3.10.2 (tags/v3.10.2:a58ebcc, Jan 17 2022, 14:12:15) [MSC v.1929 64 bit (AMD64)]"
    },
    "vscode": {
      "interpreter": {
        "hash": "afb734500600fd355917ca529030176ea0ca205570884b88f2f6f7d791fd3fbe"
      }
    }
  },
  "nbformat": 4,
  "nbformat_minor": 0
}
