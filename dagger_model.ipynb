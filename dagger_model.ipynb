{
  "cells": [
    {
      "cell_type": "code",
      "execution_count": null,
      "metadata": {
        "colab": {
          "base_uri": "https://localhost:8080/"
        },
        "id": "sj0r1Cr-rzNR",
        "outputId": "773ad905-cf56-459f-845b-4fda4fe5f82b"
      },
      "outputs": [
        {
          "name": "stdout",
          "output_type": "stream",
          "text": [
            "Looking in indexes: https://pypi.org/simple, https://us-python.pkg.dev/colab-wheels/public/simple/\n",
            "Requirement already satisfied: tensorflow in /usr/local/lib/python3.8/dist-packages (2.9.2)\n",
            "Requirement already satisfied: google-pasta>=0.1.1 in /usr/local/lib/python3.8/dist-packages (from tensorflow) (0.2.0)\n",
            "Requirement already satisfied: astunparse>=1.6.0 in /usr/local/lib/python3.8/dist-packages (from tensorflow) (1.6.3)\n",
            "Requirement already satisfied: h5py>=2.9.0 in /usr/local/lib/python3.8/dist-packages (from tensorflow) (3.1.0)\n",
            "Requirement already satisfied: packaging in /usr/local/lib/python3.8/dist-packages (from tensorflow) (21.3)\n",
            "Requirement already satisfied: gast<=0.4.0,>=0.2.1 in /usr/local/lib/python3.8/dist-packages (from tensorflow) (0.4.0)\n",
            "Requirement already satisfied: six>=1.12.0 in /usr/local/lib/python3.8/dist-packages (from tensorflow) (1.15.0)\n",
            "Requirement already satisfied: opt-einsum>=2.3.2 in /usr/local/lib/python3.8/dist-packages (from tensorflow) (3.3.0)\n",
            "Requirement already satisfied: termcolor>=1.1.0 in /usr/local/lib/python3.8/dist-packages (from tensorflow) (2.1.1)\n",
            "Requirement already satisfied: flatbuffers<2,>=1.12 in /usr/local/lib/python3.8/dist-packages (from tensorflow) (1.12)\n",
            "Requirement already satisfied: keras<2.10.0,>=2.9.0rc0 in /usr/local/lib/python3.8/dist-packages (from tensorflow) (2.9.0)\n",
            "Requirement already satisfied: wrapt>=1.11.0 in /usr/local/lib/python3.8/dist-packages (from tensorflow) (1.14.1)\n",
            "Requirement already satisfied: keras-preprocessing>=1.1.1 in /usr/local/lib/python3.8/dist-packages (from tensorflow) (1.1.2)\n",
            "Requirement already satisfied: typing-extensions>=3.6.6 in /usr/local/lib/python3.8/dist-packages (from tensorflow) (4.4.0)\n",
            "Requirement already satisfied: protobuf<3.20,>=3.9.2 in /usr/local/lib/python3.8/dist-packages (from tensorflow) (3.19.6)\n",
            "Requirement already satisfied: setuptools in /usr/local/lib/python3.8/dist-packages (from tensorflow) (57.4.0)\n",
            "Requirement already satisfied: tensorflow-io-gcs-filesystem>=0.23.1 in /usr/local/lib/python3.8/dist-packages (from tensorflow) (0.28.0)\n",
            "Requirement already satisfied: tensorflow-estimator<2.10.0,>=2.9.0rc0 in /usr/local/lib/python3.8/dist-packages (from tensorflow) (2.9.0)\n",
            "Requirement already satisfied: absl-py>=1.0.0 in /usr/local/lib/python3.8/dist-packages (from tensorflow) (1.3.0)\n",
            "Requirement already satisfied: libclang>=13.0.0 in /usr/local/lib/python3.8/dist-packages (from tensorflow) (14.0.6)\n",
            "Requirement already satisfied: tensorboard<2.10,>=2.9 in /usr/local/lib/python3.8/dist-packages (from tensorflow) (2.9.1)\n",
            "Requirement already satisfied: grpcio<2.0,>=1.24.3 in /usr/local/lib/python3.8/dist-packages (from tensorflow) (1.51.1)\n",
            "Requirement already satisfied: numpy>=1.20 in /usr/local/lib/python3.8/dist-packages (from tensorflow) (1.21.6)\n",
            "Requirement already satisfied: wheel<1.0,>=0.23.0 in /usr/local/lib/python3.8/dist-packages (from astunparse>=1.6.0->tensorflow) (0.38.4)\n",
            "Requirement already satisfied: werkzeug>=1.0.1 in /usr/local/lib/python3.8/dist-packages (from tensorboard<2.10,>=2.9->tensorflow) (1.0.1)\n",
            "Requirement already satisfied: tensorboard-plugin-wit>=1.6.0 in /usr/local/lib/python3.8/dist-packages (from tensorboard<2.10,>=2.9->tensorflow) (1.8.1)\n",
            "Requirement already satisfied: google-auth<3,>=1.6.3 in /usr/local/lib/python3.8/dist-packages (from tensorboard<2.10,>=2.9->tensorflow) (2.15.0)\n",
            "Requirement already satisfied: tensorboard-data-server<0.7.0,>=0.6.0 in /usr/local/lib/python3.8/dist-packages (from tensorboard<2.10,>=2.9->tensorflow) (0.6.1)\n",
            "Requirement already satisfied: requests<3,>=2.21.0 in /usr/local/lib/python3.8/dist-packages (from tensorboard<2.10,>=2.9->tensorflow) (2.23.0)\n",
            "Requirement already satisfied: markdown>=2.6.8 in /usr/local/lib/python3.8/dist-packages (from tensorboard<2.10,>=2.9->tensorflow) (3.4.1)\n",
            "Requirement already satisfied: google-auth-oauthlib<0.5,>=0.4.1 in /usr/local/lib/python3.8/dist-packages (from tensorboard<2.10,>=2.9->tensorflow) (0.4.6)\n",
            "Requirement already satisfied: rsa<5,>=3.1.4 in /usr/local/lib/python3.8/dist-packages (from google-auth<3,>=1.6.3->tensorboard<2.10,>=2.9->tensorflow) (4.9)\n",
            "Requirement already satisfied: cachetools<6.0,>=2.0.0 in /usr/local/lib/python3.8/dist-packages (from google-auth<3,>=1.6.3->tensorboard<2.10,>=2.9->tensorflow) (5.2.0)\n",
            "Requirement already satisfied: pyasn1-modules>=0.2.1 in /usr/local/lib/python3.8/dist-packages (from google-auth<3,>=1.6.3->tensorboard<2.10,>=2.9->tensorflow) (0.2.8)\n",
            "Requirement already satisfied: requests-oauthlib>=0.7.0 in /usr/local/lib/python3.8/dist-packages (from google-auth-oauthlib<0.5,>=0.4.1->tensorboard<2.10,>=2.9->tensorflow) (1.3.1)\n",
            "Requirement already satisfied: importlib-metadata>=4.4 in /usr/local/lib/python3.8/dist-packages (from markdown>=2.6.8->tensorboard<2.10,>=2.9->tensorflow) (4.13.0)\n",
            "Requirement already satisfied: zipp>=0.5 in /usr/local/lib/python3.8/dist-packages (from importlib-metadata>=4.4->markdown>=2.6.8->tensorboard<2.10,>=2.9->tensorflow) (3.11.0)\n",
            "Requirement already satisfied: pyasn1<0.5.0,>=0.4.6 in /usr/local/lib/python3.8/dist-packages (from pyasn1-modules>=0.2.1->google-auth<3,>=1.6.3->tensorboard<2.10,>=2.9->tensorflow) (0.4.8)\n",
            "Requirement already satisfied: chardet<4,>=3.0.2 in /usr/local/lib/python3.8/dist-packages (from requests<3,>=2.21.0->tensorboard<2.10,>=2.9->tensorflow) (3.0.4)\n",
            "Requirement already satisfied: urllib3!=1.25.0,!=1.25.1,<1.26,>=1.21.1 in /usr/local/lib/python3.8/dist-packages (from requests<3,>=2.21.0->tensorboard<2.10,>=2.9->tensorflow) (1.24.3)\n",
            "Requirement already satisfied: idna<3,>=2.5 in /usr/local/lib/python3.8/dist-packages (from requests<3,>=2.21.0->tensorboard<2.10,>=2.9->tensorflow) (2.10)\n",
            "Requirement already satisfied: certifi>=2017.4.17 in /usr/local/lib/python3.8/dist-packages (from requests<3,>=2.21.0->tensorboard<2.10,>=2.9->tensorflow) (2022.9.24)\n",
            "Requirement already satisfied: oauthlib>=3.0.0 in /usr/local/lib/python3.8/dist-packages (from requests-oauthlib>=0.7.0->google-auth-oauthlib<0.5,>=0.4.1->tensorboard<2.10,>=2.9->tensorflow) (3.2.2)\n",
            "Requirement already satisfied: pyparsing!=3.0.5,>=2.0.2 in /usr/local/lib/python3.8/dist-packages (from packaging->tensorflow) (3.0.9)\n"
          ]
        }
      ],
      "source": [
        "pip install tensorflow\n",
        "pip install tdqm"
      ]
    },
    {
      "cell_type": "code",
      "execution_count": null,
      "metadata": {
        "colab": {
          "base_uri": "https://localhost:8080/"
        },
        "id": "SXcrv3i3tgzK",
        "outputId": "bfdb2cb2-6eba-42ad-d698-e14a29c69e03"
      },
      "outputs": [
        {
          "output_type": "stream",
          "name": "stdout",
          "text": [
            "Mounted at /drive\n"
          ]
        }
      ],
      "source": [
        "import pandas as pd\n",
        "import matplotlib.pyplot as plt\n",
        "import keras\n",
        "from tqdm import tqdm\n",
        "from random import randint\n",
        "from tensorflow.keras.preprocessing.text import Tokenizer\n",
        "from tensorflow.keras.preprocessing.sequence import pad_sequences\n",
        "from tensorflow.keras.models import Sequential\n",
        "from tensorflow.keras.layers import LSTM,Dense, Dropout, SpatialDropout1D\n",
        "from tensorflow.keras.layers import Embedding\n",
        "from tensorflow.keras.layers import Lambda\n",
        "from tensorflow.keras.losses import MeanSquaredError\n",
        "import numpy as np\n",
        "import json\n",
        "from google.colab import drive\n",
        "drive.mount('/drive')"
      ]
    },
    {
      "cell_type": "code",
      "execution_count": null,
      "metadata": {
        "id": "G6T1aRIbz5r1"
      },
      "outputs": [],
      "source": [
        "# Extract data in a dataframe\n",
        "reviews = []\n",
        "scores = []\n",
        "n = 0\n",
        "with open(\"/drive/My Drive/6.7900 project/reviews_Amazon_Instant_Video_5.json\", \"r\") as file:\n",
        "    for line in file:\n",
        "        loaded = json.loads(line)\n",
        "        reviews.append(loaded[\"reviewText\"])\n",
        "        scores.append(loaded[\"overall\"])\n",
        "        n += 1"
      ]
    },
    {
      "cell_type": "code",
      "execution_count": null,
      "metadata": {
        "id": "OIKu8dP4kjwG"
      },
      "outputs": [],
      "source": [
        "# Randomize sequence\n",
        "for idx in range(1, n):\n",
        "    rand = randint(0, idx)\n",
        "    scores[idx], scores[rand] = scores[rand], scores[idx]\n",
        "    reviews[idx], reviews[rand] = reviews[rand], reviews[idx]"
      ]
    },
    {
      "cell_type": "code",
      "execution_count": null,
      "metadata": {
        "id": "VnUBCbCuuZNT"
      },
      "outputs": [],
      "source": [
        "# Create input and label\n",
        "# Separate based on scores\n",
        "pre_label = [[] for _ in range(5)]\n",
        "pre_inp = [[] for _ in range(5)]\n",
        "for idx in range(len(reviews)):\n",
        "    curr_score = int(scores[idx]) - 1\n",
        "    pre_inp[curr_score].append(reviews[idx])\n",
        "    encode = [0.0,0.0,0.0,0.0,0.0]\n",
        "    encode[curr_score] = 1.0\n",
        "    pre_label[curr_score].append(encode)\n",
        "# Count each score count\n",
        "count = [len(pre_label[idx]) for idx in range(5)]\n",
        "# Balance based on score\n",
        "label = []\n",
        "inp = []\n",
        "for idx in range(n):\n",
        "    label.append(pre_label[idx % 5][(idx // 5) % count[idx % 5]])\n",
        "    inp.append(pre_inp[idx % 5][(idx // 5) % count[idx % 5]])\n",
        "label = np.array(label)"
      ]
    },
    {
      "cell_type": "code",
      "execution_count": null,
      "metadata": {
        "id": "dgl3H9BmvznM"
      },
      "outputs": [],
      "source": [
        "# Tokenize, encode, and pad\n",
        "tokenizer = Tokenizer(num_words=5000)\n",
        "tokenizer.fit_on_texts(inp)\n",
        "encoded_docs = tokenizer.texts_to_sequences(inp)\n",
        "padded_sequence = pad_sequences(encoded_docs, maxlen=200)"
      ]
    },
    {
      "cell_type": "code",
      "execution_count": null,
      "metadata": {
        "colab": {
          "base_uri": "https://localhost:8080/"
        },
        "id": "SheGZnAev1wX",
        "outputId": "30c171bd-0986-4369-e760-0f45d8f9323d"
      },
      "outputs": [
        {
          "output_type": "stream",
          "name": "stdout",
          "text": [
            "Model: \"sequential\"\n",
            "_________________________________________________________________\n",
            " Layer (type)                Output Shape              Param #   \n",
            "=================================================================\n",
            " embedding (Embedding)       (None, 200, 32)           1617632   \n",
            "                                                                 \n",
            " spatial_dropout1d (SpatialD  (None, 200, 32)          0         \n",
            " ropout1D)                                                       \n",
            "                                                                 \n",
            " lstm (LSTM)                 (None, 50)                16600     \n",
            "                                                                 \n",
            " dropout (Dropout)           (None, 50)                0         \n",
            "                                                                 \n",
            " dense (Dense)               (None, 5)                 255       \n",
            "                                                                 \n",
            "=================================================================\n",
            "Total params: 1,634,487\n",
            "Trainable params: 1,634,487\n",
            "Non-trainable params: 0\n",
            "_________________________________________________________________\n",
            "None\n"
          ]
        }
      ],
      "source": [
        "# Baseline Model\n",
        "embedding_vector_length = 32\n",
        "vocab_size = len(tokenizer.word_index)\n",
        "baseline_model = Sequential()\n",
        "baseline_model.add(Embedding(vocab_size, embedding_vector_length, input_length=200))\n",
        "baseline_model.add(SpatialDropout1D(0.25))\n",
        "baseline_model.add(LSTM(50, dropout=0.5, recurrent_dropout=0.5))\n",
        "baseline_model.add(Dropout(0.2))\n",
        "baseline_model.add(Dense(5, activation='softmax'))\n",
        "baseline_model.compile(loss='categorical_crossentropy',optimizer='adam',metrics=['accuracy'])\n",
        "print(baseline_model.summary())"
      ]
    },
    {
      "cell_type": "code",
      "execution_count": null,
      "metadata": {
        "colab": {
          "base_uri": "https://localhost:8080/"
        },
        "id": "qbpGUFDmv3nK",
        "outputId": "598cebd7-0667-4464-b3ec-caa56e03d409"
      },
      "outputs": [
        {
          "output_type": "stream",
          "name": "stdout",
          "text": [
            "Epoch 1/25\n",
            "929/929 [==============================] - 245s 260ms/step - loss: 1.3550 - accuracy: 0.3747 - val_loss: 1.1265 - val_accuracy: 0.4943\n",
            "Epoch 2/25\n",
            "929/929 [==============================] - 243s 262ms/step - loss: 1.1346 - accuracy: 0.5013 - val_loss: 1.0096 - val_accuracy: 0.5698\n",
            "Epoch 3/25\n",
            "929/929 [==============================] - 240s 258ms/step - loss: 1.0383 - accuracy: 0.5528 - val_loss: 0.9567 - val_accuracy: 0.5982\n",
            "Epoch 4/25\n",
            "929/929 [==============================] - 241s 259ms/step - loss: 0.9761 - accuracy: 0.5867 - val_loss: 0.9242 - val_accuracy: 0.6170\n",
            "Epoch 5/25\n",
            "929/929 [==============================] - 240s 258ms/step - loss: 0.9184 - accuracy: 0.6184 - val_loss: 0.8905 - val_accuracy: 0.6289\n",
            "Epoch 6/25\n",
            "929/929 [==============================] - 233s 251ms/step - loss: 0.8859 - accuracy: 0.6274 - val_loss: 0.8091 - val_accuracy: 0.6675\n",
            "Epoch 7/25\n",
            "929/929 [==============================] - 233s 251ms/step - loss: 0.8452 - accuracy: 0.6469 - val_loss: 0.7946 - val_accuracy: 0.6819\n",
            "Epoch 8/25\n",
            "929/929 [==============================] - 235s 253ms/step - loss: 0.8231 - accuracy: 0.6576 - val_loss: 0.8313 - val_accuracy: 0.6633\n",
            "Epoch 9/25\n",
            "929/929 [==============================] - 235s 253ms/step - loss: 0.8035 - accuracy: 0.6668 - val_loss: 0.7969 - val_accuracy: 0.6743\n",
            "Epoch 10/25\n",
            "929/929 [==============================] - 233s 251ms/step - loss: 0.7744 - accuracy: 0.6805 - val_loss: 0.7565 - val_accuracy: 0.6998\n",
            "Epoch 11/25\n",
            "929/929 [==============================] - 234s 252ms/step - loss: 0.7559 - accuracy: 0.6864 - val_loss: 0.7164 - val_accuracy: 0.7116\n",
            "Epoch 12/25\n",
            "929/929 [==============================] - 236s 255ms/step - loss: 0.7387 - accuracy: 0.6952 - val_loss: 0.7096 - val_accuracy: 0.7163\n",
            "Epoch 13/25\n",
            "929/929 [==============================] - 244s 263ms/step - loss: 0.7208 - accuracy: 0.7055 - val_loss: 0.7140 - val_accuracy: 0.7099\n",
            "Epoch 14/25\n",
            "929/929 [==============================] - 233s 251ms/step - loss: 0.7054 - accuracy: 0.7092 - val_loss: 0.7874 - val_accuracy: 0.7000\n",
            "Epoch 15/25\n",
            "929/929 [==============================] - 239s 258ms/step - loss: 0.6883 - accuracy: 0.7190 - val_loss: 0.7024 - val_accuracy: 0.7141\n",
            "Epoch 16/25\n",
            "929/929 [==============================] - 248s 267ms/step - loss: 0.6748 - accuracy: 0.7243 - val_loss: 0.7418 - val_accuracy: 0.7129\n",
            "Epoch 17/25\n",
            "929/929 [==============================] - 246s 265ms/step - loss: 0.6643 - accuracy: 0.7316 - val_loss: 0.6867 - val_accuracy: 0.7252\n",
            "Epoch 18/25\n",
            "929/929 [==============================] - 244s 262ms/step - loss: 0.6560 - accuracy: 0.7315 - val_loss: 0.7520 - val_accuracy: 0.7130\n",
            "Epoch 19/25\n",
            "929/929 [==============================] - 244s 262ms/step - loss: 0.6431 - accuracy: 0.7362 - val_loss: 0.6642 - val_accuracy: 0.7335\n",
            "Epoch 20/25\n",
            "929/929 [==============================] - 246s 265ms/step - loss: 0.6329 - accuracy: 0.7454 - val_loss: 0.6755 - val_accuracy: 0.7384\n",
            "Epoch 21/25\n",
            "929/929 [==============================] - 245s 263ms/step - loss: 0.6244 - accuracy: 0.7473 - val_loss: 0.6996 - val_accuracy: 0.7320\n",
            "Epoch 22/25\n",
            "929/929 [==============================] - 239s 257ms/step - loss: 0.6157 - accuracy: 0.7485 - val_loss: 0.6273 - val_accuracy: 0.7510\n",
            "Epoch 23/25\n",
            "929/929 [==============================] - 245s 264ms/step - loss: 0.6067 - accuracy: 0.7542 - val_loss: 0.6591 - val_accuracy: 0.7479\n",
            "Epoch 24/25\n",
            "929/929 [==============================] - 241s 259ms/step - loss: 0.5985 - accuracy: 0.7604 - val_loss: 0.6692 - val_accuracy: 0.7444\n",
            "Epoch 25/25\n",
            "929/929 [==============================] - 243s 262ms/step - loss: 0.5868 - accuracy: 0.7632 - val_loss: 0.7223 - val_accuracy: 0.7248\n"
          ]
        }
      ],
      "source": [
        "# Training\n",
        "training = baseline_model.fit(padded_sequence,label,validation_split=0.2, epochs=25, batch_size=32)"
      ]
    },
    {
      "cell_type": "code",
      "execution_count": null,
      "metadata": {
        "id": "Qblc1CIjAUUQ",
        "colab": {
          "base_uri": "https://localhost:8080/",
          "height": 265
        },
        "outputId": "e012b560-071a-4451-9520-ea42cbc658ca"
      },
      "outputs": [
        {
          "output_type": "display_data",
          "data": {
            "text/plain": [
              "<Figure size 432x288 with 1 Axes>"
            ],
            "image/png": "[encoded data removed]"
          },
          "metadata": {
            "needs_background": "light"
          }
        }
      ],
      "source": [
        "# Plot accuracy\n",
        "plt.plot(training.history['accuracy'], label='acc')\n",
        "plt.plot(training.history['val_accuracy'], label='val_acc')\n",
        "plt.legend()\n",
        "plt.show()"
      ]
    },
    {
      "cell_type": "code",
      "execution_count": null,
      "metadata": {
        "id": "ti4XWWjrwftI",
        "colab": {
          "base_uri": "https://localhost:8080/",
          "height": 282
        },
        "outputId": "df17c3b2-5ccf-4fe9-f25c-faeddf3dcc47"
      },
      "outputs": [
        {
          "output_type": "display_data",
          "data": {
            "text/plain": [
              "<Figure size 432x288 with 1 Axes>"
            ],
            "image/png": "[encoded data removed]"
          },
          "metadata": {
            "needs_background": "light"
          }
        },
        {
          "output_type": "display_data",
          "data": {
            "text/plain": [
              "<Figure size 432x288 with 0 Axes>"
            ]
          },
          "metadata": {}
        }
      ],
      "source": [
        "# Plot Loss\n",
        "plt.plot(training.history['loss'], label='loss')\n",
        "plt.plot(training.history['val_loss'], label='val_loss')\n",
        "plt.legend()\n",
        "plt.show()\n",
        "plt.savefig(\"Loss plt.jpg\")"
      ]
    },
    {
      "cell_type": "code",
      "execution_count": null,
      "metadata": {
        "id": "j9Yg-ofBwhfc"
      },
      "outputs": [],
      "source": [
        "# Make a sentiment analysis function\n",
        "def predict_sentiment(text):\n",
        "    tw = tokenizer.texts_to_sequences([text])\n",
        "    tw = pad_sequences(tw,maxlen=200)\n",
        "    dist = baseline_model.predict(tw, verbose = 0)\n",
        "    high_prob = 0\n",
        "    score = 0\n",
        "    for idx in range(5):\n",
        "        if dist[0][idx] > high_prob:\n",
        "            high_prob = dist[0][idx]\n",
        "            score = idx\n",
        "    score += 1\n",
        "    return score"
      ]
    },
    {
      "cell_type": "code",
      "execution_count": null,
      "metadata": {
        "id": "njnP7hoas5Dl",
        "colab": {
          "base_uri": "https://localhost:8080/"
        },
        "outputId": "288b4368-1ed2-4dd8-c571-828132744e2d"
      },
      "outputs": [
        {
          "output_type": "stream",
          "name": "stderr",
          "text": [
            "100%|██████████| 10000/10000 [11:33<00:00, 14.42it/s]"
          ]
        },
        {
          "output_type": "stream",
          "name": "stdout",
          "text": [
            "accuracy = 0.7239\n"
          ]
        },
        {
          "output_type": "stream",
          "name": "stderr",
          "text": [
            "\n"
          ]
        }
      ],
      "source": [
        "# Find accuracy with old data\n",
        "correct = 0\n",
        "total = 10000\n",
        "N = len(reviews)\n",
        "for _ in tqdm(range(total)):\n",
        "    idx = randint(0, N-1)\n",
        "    if predict_sentiment(reviews[idx]) == int(scores[idx]):\n",
        "        correct += 1\n",
        "print(\"accuracy =\", correct / total)"
      ]
    },
    {
      "cell_type": "code",
      "source": [
        "# Extract new data\n",
        "reviews = []\n",
        "scores = []\n",
        "with open(\"/drive/My Drive/6.7900 project/Digital_Music_5.json\", \"r\") as file:\n",
        "    for line in file:\n",
        "        loaded = json.loads(line)\n",
        "        if \"reviewText\" in loaded and \"overall\" in loaded:\n",
        "            reviews.append(loaded[\"reviewText\"])\n",
        "            scores.append(loaded[\"overall\"])"
      ],
      "metadata": {
        "id": "sIa2VEmjdqml"
      },
      "execution_count": null,
      "outputs": []
    },
    {
      "cell_type": "code",
      "source": [
        "# Randomize sequence\n",
        "for idx in range(1, n):\n",
        "    rand = randint(0, idx)\n",
        "    scores[idx], scores[rand] = scores[rand], scores[idx]\n",
        "    reviews[idx], reviews[rand] = reviews[rand], reviews[idx]"
      ],
      "metadata": {
        "id": "AmtB8jhUdXUh"
      },
      "execution_count": null,
      "outputs": []
    },
    {
      "cell_type": "code",
      "source": [
        "# Find accuracy with new data\n",
        "correct = 0\n",
        "total = 10000\n",
        "for idx in tqdm(range(total)):\n",
        "    if predict_sentiment(reviews[idx]) == int(scores[idx]):\n",
        "        correct += 1\n",
        "print(\"accuracy =\", correct / total)"
      ],
      "metadata": {
        "id": "qHYCn3WidYdW",
        "colab": {
          "base_uri": "https://localhost:8080/"
        },
        "outputId": "4343e4a7-af35-4363-cbd1-63b12605a955"
      },
      "execution_count": null,
      "outputs": [
        {
          "output_type": "stream",
          "name": "stderr",
          "text": [
            "100%|██████████| 10000/10000 [11:23<00:00, 14.63it/s]"
          ]
        },
        {
          "output_type": "stream",
          "name": "stdout",
          "text": [
            "accuracy = 0.6677\n"
          ]
        },
        {
          "output_type": "stream",
          "name": "stderr",
          "text": [
            "\n"
          ]
        }
      ]
    },
    {
      "cell_type": "code",
      "source": [
        "cap = 1000\n",
        "# Create new input and label\n",
        "label = [[0,0,0,0,0] for _ in range(cap)]\n",
        "inp = reviews[total : total + cap]\n",
        "for idx in range(total, total + cap):\n",
        "    curr_score = int(scores[idx]) - 1\n",
        "    label[idx - total][curr_score] = 1\n",
        "label = np.array(label)"
      ],
      "metadata": {
        "id": "vOt6sdDpdZnA"
      },
      "execution_count": null,
      "outputs": []
    },
    {
      "cell_type": "code",
      "source": [
        "# Encode and pad\n",
        "encoded_docs = tokenizer.texts_to_sequences(inp)\n",
        "padded_sequence = pad_sequences(encoded_docs, maxlen=200)"
      ],
      "metadata": {
        "id": "4zYEojzjdatT"
      },
      "execution_count": null,
      "outputs": []
    },
    {
      "cell_type": "code",
      "source": [
        "# Architecture\n",
        "domain_adapt = keras.models.clone_model(baseline_model)\n",
        "domain_adapt.set_weights(baseline_model.get_weights())\n",
        "domain_adapt.compile(loss='categorical_crossentropy',optimizer='adam',metrics=['accuracy'])\n",
        "domain_adapt.layers[0].trainable = False\n",
        "print(domain_adapt.summary())"
      ],
      "metadata": {
        "id": "0dnKxNWYdbtJ",
        "colab": {
          "base_uri": "https://localhost:8080/"
        },
        "outputId": "dee39cc0-1023-40c1-9253-fd96152b065f"
      },
      "execution_count": null,
      "outputs": [
        {
          "output_type": "stream",
          "name": "stdout",
          "text": [
            "Model: \"sequential\"\n",
            "_________________________________________________________________\n",
            " Layer (type)                Output Shape              Param #   \n",
            "=================================================================\n",
            " embedding (Embedding)       (None, 200, 32)           1617632   \n",
            "                                                                 \n",
            " spatial_dropout1d (SpatialD  (None, 200, 32)          0         \n",
            " ropout1D)                                                       \n",
            "                                                                 \n",
            " lstm (LSTM)                 (None, 50)                16600     \n",
            "                                                                 \n",
            " dropout (Dropout)           (None, 50)                0         \n",
            "                                                                 \n",
            " dense (Dense)               (None, 5)                 255       \n",
            "                                                                 \n",
            "=================================================================\n",
            "Total params: 1,634,487\n",
            "Trainable params: 16,855\n",
            "Non-trainable params: 1,617,632\n",
            "_________________________________________________________________\n",
            "None\n"
          ]
        }
      ]
    },
    {
      "cell_type": "code",
      "source": [
        "# Training\n",
        "training_adapt = domain_adapt.fit(padded_sequence,label,validation_split=0.2, epochs=10, batch_size=32)"
      ],
      "metadata": {
        "id": "SWWb4YRDdeB8",
        "colab": {
          "base_uri": "https://localhost:8080/"
        },
        "outputId": "8e3be327-027e-4c1a-9e19-0544888005fa"
      },
      "execution_count": null,
      "outputs": [
        {
          "output_type": "stream",
          "name": "stdout",
          "text": [
            "Epoch 1/10\n",
            "25/25 [==============================] - 7s 213ms/step - loss: 0.8287 - accuracy: 0.7312 - val_loss: 0.7079 - val_accuracy: 0.7700\n",
            "Epoch 2/10\n",
            "25/25 [==============================] - 5s 196ms/step - loss: 0.6656 - accuracy: 0.7900 - val_loss: 0.6286 - val_accuracy: 0.7750\n",
            "Epoch 3/10\n",
            "25/25 [==============================] - 5s 195ms/step - loss: 0.6288 - accuracy: 0.8050 - val_loss: 0.6342 - val_accuracy: 0.7750\n",
            "Epoch 4/10\n",
            "25/25 [==============================] - 5s 204ms/step - loss: 0.5935 - accuracy: 0.8050 - val_loss: 0.6273 - val_accuracy: 0.7750\n",
            "Epoch 5/10\n",
            "25/25 [==============================] - 5s 202ms/step - loss: 0.5742 - accuracy: 0.8100 - val_loss: 0.6251 - val_accuracy: 0.7800\n",
            "Epoch 6/10\n",
            "25/25 [==============================] - 5s 208ms/step - loss: 0.5628 - accuracy: 0.8125 - val_loss: 0.6241 - val_accuracy: 0.7800\n",
            "Epoch 7/10\n",
            "25/25 [==============================] - 5s 196ms/step - loss: 0.5395 - accuracy: 0.8175 - val_loss: 0.6408 - val_accuracy: 0.7750\n",
            "Epoch 8/10\n",
            "25/25 [==============================] - 5s 201ms/step - loss: 0.5110 - accuracy: 0.8275 - val_loss: 0.6211 - val_accuracy: 0.7800\n",
            "Epoch 9/10\n",
            "25/25 [==============================] - 5s 202ms/step - loss: 0.4971 - accuracy: 0.8400 - val_loss: 0.6492 - val_accuracy: 0.7800\n",
            "Epoch 10/10\n",
            "25/25 [==============================] - 5s 199ms/step - loss: 0.5096 - accuracy: 0.8288 - val_loss: 0.6282 - val_accuracy: 0.7850\n"
          ]
        }
      ]
    },
    {
      "cell_type": "code",
      "source": [
        "# Plot Accuracy\n",
        "plt.plot(training_adapt.history['accuracy'], label='acc')\n",
        "plt.plot(training_adapt.history['val_accuracy'], label='val_acc')\n",
        "plt.legend()\n",
        "plt.show()"
      ],
      "metadata": {
        "id": "lk22MD5bdfbk",
        "colab": {
          "base_uri": "https://localhost:8080/",
          "height": 265
        },
        "outputId": "9b6cc0bd-c6c3-4136-c169-b0ae04d39df9"
      },
      "execution_count": null,
      "outputs": [
        {
          "output_type": "display_data",
          "data": {
            "text/plain": [
              "<Figure size 432x288 with 1 Axes>"
            ],
            "image/png": "[encoded data removed]"
          },
          "metadata": {
            "needs_background": "light"
          }
        }
      ]
    },
    {
      "cell_type": "code",
      "source": [
        "# Plot Loss\n",
        "plt.plot(training_adapt.history['loss'], label='loss')\n",
        "plt.plot(training_adapt.history['val_loss'], label='val_loss')\n",
        "plt.legend()\n",
        "plt.show()\n",
        "plt.savefig(\"Loss plt.jpg\")"
      ],
      "metadata": {
        "id": "DaGaPFXcdgY3",
        "colab": {
          "base_uri": "https://localhost:8080/",
          "height": 282
        },
        "outputId": "90d66635-70a4-426d-821b-d5f438e0f71a"
      },
      "execution_count": null,
      "outputs": [
        {
          "output_type": "display_data",
          "data": {
            "text/plain": [
              "<Figure size 432x288 with 1 Axes>"
            ],
            "image/png": "[encoded data removed]"
          },
          "metadata": {
            "needs_background": "light"
          }
        },
        {
          "output_type": "display_data",
          "data": {
            "text/plain": [
              "<Figure size 432x288 with 0 Axes>"
            ]
          },
          "metadata": {}
        }
      ]
    },
    {
      "cell_type": "code",
      "source": [
        "# Make a sentiment analysis function for domain adapt\n",
        "def predict_sentiment_adapt(text):\n",
        "    tw = tokenizer.texts_to_sequences([text])\n",
        "    tw = pad_sequences(tw,maxlen=200)\n",
        "    dist = domain_adapt.predict(tw, verbose = 0)\n",
        "    high_prob = 0\n",
        "    score = 0\n",
        "    for idx in range(5):\n",
        "        if dist[0][idx] > high_prob:\n",
        "            high_prob = dist[0][idx]\n",
        "            score = idx\n",
        "    score += 1\n",
        "    return score"
      ],
      "metadata": {
        "id": "Khzj2k4xdhZ7"
      },
      "execution_count": null,
      "outputs": []
    },
    {
      "cell_type": "code",
      "source": [
        "correct = 0\n",
        "for idx in tqdm(range(total)):\n",
        "    if predict_sentiment_adapt(reviews[idx]) == int(scores[idx]):\n",
        "        correct += 1\n",
        "print(\"accuracy =\", correct / total)"
      ],
      "metadata": {
        "id": "p32FLHqSdiwT",
        "colab": {
          "base_uri": "https://localhost:8080/"
        },
        "outputId": "25a2e8d1-f775-4222-914f-b2f76e86569d"
      },
      "execution_count": null,
      "outputs": [
        {
          "output_type": "stream",
          "name": "stderr",
          "text": [
            "100%|██████████| 10000/10000 [11:55<00:00, 13.97it/s]"
          ]
        },
        {
          "output_type": "stream",
          "name": "stdout",
          "text": [
            "accuracy = 0.8193\n"
          ]
        },
        {
          "output_type": "stream",
          "name": "stderr",
          "text": [
            "\n"
          ]
        }
      ]
    }
  ],
  "metadata": {
    "colab": {
      "provenance": []
    },
    "kernelspec": {
      "display_name": "Python 3",
      "name": "python3"
    },
    "language_info": {
      "name": "python"
    }
  },
  "nbformat": 4,
  "nbformat_minor": 0
}