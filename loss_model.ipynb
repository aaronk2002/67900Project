{
  "nbformat": 4,
  "nbformat_minor": 0,
  "metadata": {
    "colab": {
      "provenance": []
    },
    "kernelspec": {
      "name": "python3",
      "display_name": "Python 3"
    },
    "language_info": {
      "name": "python"
    }
  },
  "cells": [
    {
      "cell_type": "code",
      "execution_count": null,
      "metadata": {
        "colab": {
          "base_uri": "https://localhost:8080/"
        },
        "id": "sj0r1Cr-rzNR",
        "outputId": "44ec6fa9-7f7a-4a25-bd4b-6084d999ebec"
      },
      "outputs": [
        {
          "output_type": "stream",
          "name": "stdout",
          "text": [
            "Looking in indexes: https://pypi.org/simple, https://us-python.pkg.dev/colab-wheels/public/simple/\n",
            "Requirement already satisfied: tensorflow in /usr/local/lib/python3.8/dist-packages (2.9.2)\n",
            "Requirement already satisfied: numpy>=1.20 in /usr/local/lib/python3.8/dist-packages (from tensorflow) (1.21.6)\n",
            "Requirement already satisfied: keras<2.10.0,>=2.9.0rc0 in /usr/local/lib/python3.8/dist-packages (from tensorflow) (2.9.0)\n",
            "Requirement already satisfied: tensorboard<2.10,>=2.9 in /usr/local/lib/python3.8/dist-packages (from tensorflow) (2.9.1)\n",
            "Requirement already satisfied: opt-einsum>=2.3.2 in /usr/local/lib/python3.8/dist-packages (from tensorflow) (3.3.0)\n",
            "Requirement already satisfied: protobuf<3.20,>=3.9.2 in /usr/local/lib/python3.8/dist-packages (from tensorflow) (3.19.6)\n",
            "Requirement already satisfied: keras-preprocessing>=1.1.1 in /usr/local/lib/python3.8/dist-packages (from tensorflow) (1.1.2)\n",
            "Requirement already satisfied: tensorflow-estimator<2.10.0,>=2.9.0rc0 in /usr/local/lib/python3.8/dist-packages (from tensorflow) (2.9.0)\n",
            "Requirement already satisfied: absl-py>=1.0.0 in /usr/local/lib/python3.8/dist-packages (from tensorflow) (1.3.0)\n",
            "Requirement already satisfied: packaging in /usr/local/lib/python3.8/dist-packages (from tensorflow) (21.3)\n",
            "Requirement already satisfied: wrapt>=1.11.0 in /usr/local/lib/python3.8/dist-packages (from tensorflow) (1.14.1)\n",
            "Requirement already satisfied: google-pasta>=0.1.1 in /usr/local/lib/python3.8/dist-packages (from tensorflow) (0.2.0)\n",
            "Requirement already satisfied: astunparse>=1.6.0 in /usr/local/lib/python3.8/dist-packages (from tensorflow) (1.6.3)\n",
            "Requirement already satisfied: six>=1.12.0 in /usr/local/lib/python3.8/dist-packages (from tensorflow) (1.15.0)\n",
            "Requirement already satisfied: gast<=0.4.0,>=0.2.1 in /usr/local/lib/python3.8/dist-packages (from tensorflow) (0.4.0)\n",
            "Requirement already satisfied: setuptools in /usr/local/lib/python3.8/dist-packages (from tensorflow) (57.4.0)\n",
            "Requirement already satisfied: h5py>=2.9.0 in /usr/local/lib/python3.8/dist-packages (from tensorflow) (3.1.0)\n",
            "Requirement already satisfied: tensorflow-io-gcs-filesystem>=0.23.1 in /usr/local/lib/python3.8/dist-packages (from tensorflow) (0.28.0)\n",
            "Requirement already satisfied: termcolor>=1.1.0 in /usr/local/lib/python3.8/dist-packages (from tensorflow) (2.1.1)\n",
            "Requirement already satisfied: grpcio<2.0,>=1.24.3 in /usr/local/lib/python3.8/dist-packages (from tensorflow) (1.51.1)\n",
            "Requirement already satisfied: libclang>=13.0.0 in /usr/local/lib/python3.8/dist-packages (from tensorflow) (14.0.6)\n",
            "Requirement already satisfied: typing-extensions>=3.6.6 in /usr/local/lib/python3.8/dist-packages (from tensorflow) (4.4.0)\n",
            "Requirement already satisfied: flatbuffers<2,>=1.12 in /usr/local/lib/python3.8/dist-packages (from tensorflow) (1.12)\n",
            "Requirement already satisfied: wheel<1.0,>=0.23.0 in /usr/local/lib/python3.8/dist-packages (from astunparse>=1.6.0->tensorflow) (0.38.4)\n",
            "Requirement already satisfied: google-auth-oauthlib<0.5,>=0.4.1 in /usr/local/lib/python3.8/dist-packages (from tensorboard<2.10,>=2.9->tensorflow) (0.4.6)\n",
            "Requirement already satisfied: requests<3,>=2.21.0 in /usr/local/lib/python3.8/dist-packages (from tensorboard<2.10,>=2.9->tensorflow) (2.23.0)\n",
            "Requirement already satisfied: tensorboard-plugin-wit>=1.6.0 in /usr/local/lib/python3.8/dist-packages (from tensorboard<2.10,>=2.9->tensorflow) (1.8.1)\n",
            "Requirement already satisfied: tensorboard-data-server<0.7.0,>=0.6.0 in /usr/local/lib/python3.8/dist-packages (from tensorboard<2.10,>=2.9->tensorflow) (0.6.1)\n",
            "Requirement already satisfied: google-auth<3,>=1.6.3 in /usr/local/lib/python3.8/dist-packages (from tensorboard<2.10,>=2.9->tensorflow) (2.15.0)\n",
            "Requirement already satisfied: werkzeug>=1.0.1 in /usr/local/lib/python3.8/dist-packages (from tensorboard<2.10,>=2.9->tensorflow) (1.0.1)\n",
            "Requirement already satisfied: markdown>=2.6.8 in /usr/local/lib/python3.8/dist-packages (from tensorboard<2.10,>=2.9->tensorflow) (3.4.1)\n",
            "Requirement already satisfied: rsa<5,>=3.1.4 in /usr/local/lib/python3.8/dist-packages (from google-auth<3,>=1.6.3->tensorboard<2.10,>=2.9->tensorflow) (4.9)\n",
            "Requirement already satisfied: cachetools<6.0,>=2.0.0 in /usr/local/lib/python3.8/dist-packages (from google-auth<3,>=1.6.3->tensorboard<2.10,>=2.9->tensorflow) (5.2.0)\n",
            "Requirement already satisfied: pyasn1-modules>=0.2.1 in /usr/local/lib/python3.8/dist-packages (from google-auth<3,>=1.6.3->tensorboard<2.10,>=2.9->tensorflow) (0.2.8)\n",
            "Requirement already satisfied: requests-oauthlib>=0.7.0 in /usr/local/lib/python3.8/dist-packages (from google-auth-oauthlib<0.5,>=0.4.1->tensorboard<2.10,>=2.9->tensorflow) (1.3.1)\n",
            "Requirement already satisfied: importlib-metadata>=4.4 in /usr/local/lib/python3.8/dist-packages (from markdown>=2.6.8->tensorboard<2.10,>=2.9->tensorflow) (4.13.0)\n",
            "Requirement already satisfied: zipp>=0.5 in /usr/local/lib/python3.8/dist-packages (from importlib-metadata>=4.4->markdown>=2.6.8->tensorboard<2.10,>=2.9->tensorflow) (3.11.0)\n",
            "Requirement already satisfied: pyasn1<0.5.0,>=0.4.6 in /usr/local/lib/python3.8/dist-packages (from pyasn1-modules>=0.2.1->google-auth<3,>=1.6.3->tensorboard<2.10,>=2.9->tensorflow) (0.4.8)\n",
            "Requirement already satisfied: chardet<4,>=3.0.2 in /usr/local/lib/python3.8/dist-packages (from requests<3,>=2.21.0->tensorboard<2.10,>=2.9->tensorflow) (3.0.4)\n",
            "Requirement already satisfied: certifi>=2017.4.17 in /usr/local/lib/python3.8/dist-packages (from requests<3,>=2.21.0->tensorboard<2.10,>=2.9->tensorflow) (2022.9.24)\n",
            "Requirement already satisfied: idna<3,>=2.5 in /usr/local/lib/python3.8/dist-packages (from requests<3,>=2.21.0->tensorboard<2.10,>=2.9->tensorflow) (2.10)\n",
            "Requirement already satisfied: urllib3!=1.25.0,!=1.25.1,<1.26,>=1.21.1 in /usr/local/lib/python3.8/dist-packages (from requests<3,>=2.21.0->tensorboard<2.10,>=2.9->tensorflow) (1.24.3)\n",
            "Requirement already satisfied: oauthlib>=3.0.0 in /usr/local/lib/python3.8/dist-packages (from requests-oauthlib>=0.7.0->google-auth-oauthlib<0.5,>=0.4.1->tensorboard<2.10,>=2.9->tensorflow) (3.2.2)\n",
            "Requirement already satisfied: pyparsing!=3.0.5,>=2.0.2 in /usr/local/lib/python3.8/dist-packages (from packaging->tensorflow) (3.0.9)\n"
          ]
        }
      ],
      "source": [
        "pip install tensorflow"
      ]
    },
    {
      "cell_type": "code",
      "source": [
        "import pandas as pd\n",
        "import matplotlib.pyplot as plt\n",
        "import keras\n",
        "from tqdm import tqdm\n",
        "from random import randint\n",
        "import tensorflow as tf\n",
        "from tensorflow.keras.preprocessing.text import Tokenizer\n",
        "from tensorflow.keras.preprocessing.sequence import pad_sequences\n",
        "from tensorflow.keras.models import Sequential\n",
        "from tensorflow.keras.layers import LSTM,Dense, Dropout, SpatialDropout1D\n",
        "from tensorflow.keras.layers import Embedding\n",
        "from tensorflow.keras.layers import Lambda\n",
        "from tensorflow.keras.losses import MeanSquaredError\n",
        "import numpy as np\n",
        "import json\n",
        "from google.colab import drive\n",
        "drive.mount('/drive')"
      ],
      "metadata": {
        "colab": {
          "base_uri": "https://localhost:8080/"
        },
        "id": "SXcrv3i3tgzK",
        "outputId": "5bdb59de-269e-4732-c85e-d69f7d09986e"
      },
      "execution_count": null,
      "outputs": [
        {
          "output_type": "stream",
          "name": "stdout",
          "text": [
            "Drive already mounted at /drive; to attempt to forcibly remount, call drive.mount(\"/drive\", force_remount=True).\n"
          ]
        }
      ]
    },
    {
      "cell_type": "code",
      "source": [
        "# Extract data in a dataframe\n",
        "reviews = []\n",
        "scores = []\n",
        "n = 0\n",
        "with open(\"/drive/My Drive/6.7900 project/reviews_Amazon_Instant_Video_5.json\", \"r\") as file:\n",
        "    for line in file:\n",
        "        loaded = json.loads(line)\n",
        "        reviews.append(loaded[\"reviewText\"])\n",
        "        scores.append(loaded[\"overall\"])\n",
        "        n += 1"
      ],
      "metadata": {
        "id": "G6T1aRIbz5r1"
      },
      "execution_count": null,
      "outputs": []
    },
    {
      "cell_type": "code",
      "source": [
        "# Count each rating\n",
        "count = [0,0,0,0,0]\n",
        "for score in scores:\n",
        "    count[int(score) - 1] += 1\n",
        "print(count)\n",
        "balancer = [n / (5 * num)  for num in count]"
      ],
      "metadata": {
        "colab": {
          "base_uri": "https://localhost:8080/"
        },
        "id": "4xuyPoDjuRUf",
        "outputId": "057bb6bd-e3a2-43ec-a7a4-190a2eaa317c"
      },
      "execution_count": null,
      "outputs": [
        {
          "output_type": "stream",
          "name": "stdout",
          "text": [
            "[1718, 1885, 4187, 8446, 20890]\n"
          ]
        }
      ]
    },
    {
      "cell_type": "code",
      "source": [
        "# Create input and label\n",
        "label = [[0.0,0.0,0.0,0.0,0.0] for _ in scores]\n",
        "inp = reviews\n",
        "for idx in range(len(scores)):\n",
        "    curr_score = int(scores[idx]) - 1\n",
        "    label[idx][curr_score] = 1.0"
      ],
      "metadata": {
        "id": "VnUBCbCuuZNT"
      },
      "execution_count": null,
      "outputs": []
    },
    {
      "cell_type": "code",
      "source": [
        "# Randomize\n",
        "for idx in range(1, n):\n",
        "    rand = randint(0, idx)\n",
        "    label[idx], label[rand] = label[rand], label[idx]\n",
        "    inp[idx], inp[rand] = inp[rand], inp[idx]\n",
        "label = np.array(label)\n",
        "inp = np.array(inp)"
      ],
      "metadata": {
        "id": "DEtpVN5pob1e"
      },
      "execution_count": null,
      "outputs": []
    },
    {
      "cell_type": "code",
      "source": [
        "# Tokenize, encode, and pad\n",
        "tokenizer = Tokenizer(num_words=5000)\n",
        "tokenizer.fit_on_texts(inp)\n",
        "encoded_docs = tokenizer.texts_to_sequences(inp)\n",
        "padded_sequence = pad_sequences(encoded_docs, maxlen=200)"
      ],
      "metadata": {
        "id": "dgl3H9BmvznM"
      },
      "execution_count": null,
      "outputs": []
    },
    {
      "cell_type": "code",
      "source": [
        "# Create custom loss function\n",
        "class CustomAccuracy(keras.losses.Loss):\n",
        "  def __init__(self):\n",
        "      super().__init__()\n",
        "  def call(self, y_true, y_pred):\n",
        "      log_y_pred = tf.math.log(y_pred)\n",
        "      original = -tf.math.multiply_no_nan(x=log_y_pred, y=y_true)\n",
        "      with_balance = tf.math.multiply_no_nan(x=original, y=balancer)\n",
        "      return tf.reduce_mean(tf.reduce_sum(with_balance,axis=1))"
      ],
      "metadata": {
        "id": "Zgysik85u7bi"
      },
      "execution_count": null,
      "outputs": []
    },
    {
      "cell_type": "code",
      "source": [
        "# Baseline Model\n",
        "embedding_vector_length = 32\n",
        "vocab_size = len(tokenizer.word_index)\n",
        "baseline_model = Sequential()\n",
        "baseline_model.add(Embedding(vocab_size, embedding_vector_length, input_length=200))\n",
        "baseline_model.add(SpatialDropout1D(0.25))\n",
        "baseline_model.add(LSTM(50, dropout=0.5, recurrent_dropout=0.5))\n",
        "baseline_model.add(Dropout(0.2))\n",
        "baseline_model.add(Dense(5, activation='softmax'))\n",
        "baseline_model.compile(loss=CustomAccuracy(),optimizer='adam',metrics=['accuracy'])\n",
        "print(baseline_model.summary())"
      ],
      "metadata": {
        "colab": {
          "base_uri": "https://localhost:8080/"
        },
        "id": "SheGZnAev1wX",
        "outputId": "a629a5a3-d4db-4db4-d57a-cbc59d9e76f3"
      },
      "execution_count": null,
      "outputs": [
        {
          "output_type": "stream",
          "name": "stdout",
          "text": [
            "Model: \"sequential_21\"\n",
            "_________________________________________________________________\n",
            " Layer (type)                Output Shape              Param #   \n",
            "=================================================================\n",
            " embedding_21 (Embedding)    (None, 200, 32)           1908416   \n",
            "                                                                 \n",
            " spatial_dropout1d_21 (Spati  (None, 200, 32)          0         \n",
            " alDropout1D)                                                    \n",
            "                                                                 \n",
            " lstm_21 (LSTM)              (None, 50)                16600     \n",
            "                                                                 \n",
            " dropout_21 (Dropout)        (None, 50)                0         \n",
            "                                                                 \n",
            " dense_21 (Dense)            (None, 5)                 255       \n",
            "                                                                 \n",
            "=================================================================\n",
            "Total params: 1,925,271\n",
            "Trainable params: 1,925,271\n",
            "Non-trainable params: 0\n",
            "_________________________________________________________________\n",
            "None\n"
          ]
        }
      ]
    },
    {
      "cell_type": "code",
      "source": [
        "# Training\n",
        "training = baseline_model.fit(padded_sequence,label,validation_split=0.2, epochs=25, batch_size=32)"
      ],
      "metadata": {
        "colab": {
          "base_uri": "https://localhost:8080/"
        },
        "id": "qbpGUFDmv3nK",
        "outputId": "f47bc258-8e9d-44f7-99b2-e7e7afb540e7"
      },
      "execution_count": null,
      "outputs": [
        {
          "output_type": "stream",
          "name": "stdout",
          "text": [
            "Epoch 1/25\n",
            "929/929 [==============================] - 270s 287ms/step - loss: 1.4465 - accuracy: 0.4098 - val_loss: 1.3620 - val_accuracy: 0.4111\n",
            "Epoch 2/25\n",
            "929/929 [==============================] - 272s 293ms/step - loss: 1.2787 - accuracy: 0.4880 - val_loss: 1.2909 - val_accuracy: 0.5650\n",
            "Epoch 3/25\n",
            "929/929 [==============================] - 267s 287ms/step - loss: 1.1998 - accuracy: 0.5232 - val_loss: 1.2538 - val_accuracy: 0.5396\n",
            "Epoch 4/25\n",
            "929/929 [==============================] - 270s 290ms/step - loss: 1.1427 - accuracy: 0.5380 - val_loss: 1.3436 - val_accuracy: 0.6027\n",
            "Epoch 5/25\n",
            "929/929 [==============================] - 268s 288ms/step - loss: 1.1032 - accuracy: 0.5494 - val_loss: 1.2708 - val_accuracy: 0.5890\n",
            "Epoch 6/25\n",
            "929/929 [==============================] - 269s 289ms/step - loss: 1.0717 - accuracy: 0.5612 - val_loss: 1.3596 - val_accuracy: 0.6138\n",
            "Epoch 7/25\n",
            "929/929 [==============================] - 287s 309ms/step - loss: 1.0322 - accuracy: 0.5704 - val_loss: 1.2792 - val_accuracy: 0.5357\n",
            "Epoch 8/25\n",
            "929/929 [==============================] - 282s 304ms/step - loss: 0.9988 - accuracy: 0.5753 - val_loss: 1.3394 - val_accuracy: 0.5939\n",
            "Epoch 9/25\n",
            "929/929 [==============================] - 272s 293ms/step - loss: 0.9783 - accuracy: 0.5798 - val_loss: 1.3501 - val_accuracy: 0.5971\n",
            "Epoch 10/25\n",
            "929/929 [==============================] - 275s 297ms/step - loss: 0.9425 - accuracy: 0.5896 - val_loss: 1.4549 - val_accuracy: 0.5976\n",
            "Epoch 11/25\n",
            "929/929 [==============================] - 275s 296ms/step - loss: 0.9295 - accuracy: 0.5901 - val_loss: 1.3974 - val_accuracy: 0.5933\n",
            "Epoch 12/25\n",
            "929/929 [==============================] - 269s 290ms/step - loss: 0.9058 - accuracy: 0.5987 - val_loss: 1.4573 - val_accuracy: 0.6045\n",
            "Epoch 13/25\n",
            "929/929 [==============================] - 277s 298ms/step - loss: 0.8796 - accuracy: 0.6077 - val_loss: 1.4407 - val_accuracy: 0.5583\n",
            "Epoch 14/25\n",
            "929/929 [==============================] - 276s 297ms/step - loss: 0.8669 - accuracy: 0.6087 - val_loss: 1.4797 - val_accuracy: 0.5413\n",
            "Epoch 15/25\n",
            "929/929 [==============================] - 274s 295ms/step - loss: 0.8536 - accuracy: 0.6115 - val_loss: 1.5004 - val_accuracy: 0.5761\n",
            "Epoch 16/25\n",
            "929/929 [==============================] - 276s 297ms/step - loss: 0.8260 - accuracy: 0.6179 - val_loss: 1.7070 - val_accuracy: 0.5408\n",
            "Epoch 17/25\n",
            "929/929 [==============================] - 275s 296ms/step - loss: 0.8211 - accuracy: 0.6220 - val_loss: 1.7137 - val_accuracy: 0.6032\n",
            "Epoch 18/25\n",
            "929/929 [==============================] - 273s 293ms/step - loss: 0.7991 - accuracy: 0.6287 - val_loss: 1.7166 - val_accuracy: 0.5819\n",
            "Epoch 19/25\n",
            "929/929 [==============================] - 271s 291ms/step - loss: 0.7856 - accuracy: 0.6319 - val_loss: 1.5751 - val_accuracy: 0.5918\n",
            "Epoch 20/25\n",
            "929/929 [==============================] - 272s 293ms/step - loss: 0.7687 - accuracy: 0.6363 - val_loss: 1.6506 - val_accuracy: 0.5576\n",
            "Epoch 21/25\n",
            "929/929 [==============================] - 270s 290ms/step - loss: 0.7745 - accuracy: 0.6336 - val_loss: 1.6638 - val_accuracy: 0.5642\n",
            "Epoch 22/25\n",
            "929/929 [==============================] - 272s 292ms/step - loss: 0.7360 - accuracy: 0.6401 - val_loss: 1.7734 - val_accuracy: 0.5894\n",
            "Epoch 23/25\n",
            "929/929 [==============================] - 273s 294ms/step - loss: 0.7483 - accuracy: 0.6399 - val_loss: 1.7161 - val_accuracy: 0.5891\n",
            "Epoch 24/25\n",
            "929/929 [==============================] - 273s 294ms/step - loss: 0.7329 - accuracy: 0.6441 - val_loss: 1.7539 - val_accuracy: 0.5727\n",
            "Epoch 25/25\n",
            "929/929 [==============================] - 268s 289ms/step - loss: 0.7178 - accuracy: 0.6428 - val_loss: 1.6734 - val_accuracy: 0.5745\n"
          ]
        }
      ]
    },
    {
      "cell_type": "code",
      "source": [
        "# Plot Accuracy\n",
        "plt.plot(training.history['accuracy'], label='acc')\n",
        "plt.plot(training.history['val_accuracy'], label='val_acc')\n",
        "plt.legend()\n",
        "plt.show()"
      ],
      "metadata": {
        "colab": {
          "base_uri": "https://localhost:8080/",
          "height": 265
        },
        "id": "UMFJCq1hv66Q",
        "outputId": "48e7d6b1-69e1-4b09-b964-57db8fe8291f"
      },
      "execution_count": null,
      "outputs": [
        {
          "output_type": "display_data",
          "data": {
            "text/plain": [
              "<Figure size 432x288 with 1 Axes>"
            ],
            "image/png": "[encoded data removed]"
          },
          "metadata": {
            "needs_background": "light"
          }
        }
      ]
    },
    {
      "cell_type": "code",
      "source": [
        "# Plot Loss\n",
        "plt.plot(training.history['loss'], label='loss')\n",
        "plt.plot(training.history['val_loss'], label='val_loss')\n",
        "plt.legend()\n",
        "plt.show()\n",
        "plt.savefig(\"Loss plt.jpg\")"
      ],
      "metadata": {
        "colab": {
          "base_uri": "https://localhost:8080/",
          "height": 282
        },
        "id": "ti4XWWjrwftI",
        "outputId": "f37b95a6-d75d-4940-c4b2-2a32c8fc6c2e"
      },
      "execution_count": null,
      "outputs": [
        {
          "output_type": "display_data",
          "data": {
            "text/plain": [
              "<Figure size 432x288 with 1 Axes>"
            ],
            "image/png": "[encoded data removed]"
          },
          "metadata": {
            "needs_background": "light"
          }
        },
        {
          "output_type": "display_data",
          "data": {
            "text/plain": [
              "<Figure size 432x288 with 0 Axes>"
            ]
          },
          "metadata": {}
        }
      ]
    },
    {
      "cell_type": "code",
      "source": [
        "# Make a sentiment analysis function\n",
        "def predict_sentiment(text):\n",
        "    tw = tokenizer.texts_to_sequences([text])\n",
        "    tw = pad_sequences(tw,maxlen=200)\n",
        "    dist = baseline_model.predict(tw, verbose = 0)\n",
        "    high_prob = 0\n",
        "    score = 0\n",
        "    for idx in range(5):\n",
        "        if dist[0][idx] > high_prob:\n",
        "            high_prob = dist[0][idx]\n",
        "            score = idx\n",
        "    score += 1\n",
        "    return score"
      ],
      "metadata": {
        "id": "j9Yg-ofBwhfc"
      },
      "execution_count": null,
      "outputs": []
    },
    {
      "cell_type": "code",
      "source": [
        "# Extract new data\n",
        "reviews = []\n",
        "scores = []\n",
        "n = 0\n",
        "with open(\"/drive/My Drive/6.7900 project/Digital_Music_5.json\", \"r\") as file:\n",
        "    for line in file:\n",
        "        loaded = json.loads(line)\n",
        "        if \"reviewText\" in loaded and \"overall\" in loaded:\n",
        "            reviews.append(loaded[\"reviewText\"])\n",
        "            scores.append(loaded[\"overall\"])\n",
        "            n += 1"
      ],
      "metadata": {
        "id": "PubXFlJCRH-e"
      },
      "execution_count": null,
      "outputs": []
    },
    {
      "cell_type": "code",
      "source": [
        "# Randomize sequence\n",
        "for idx in range(1, n):\n",
        "    rand = randint(0, idx)\n",
        "    scores[idx], scores[rand] = scores[rand], scores[idx]\n",
        "    reviews[idx], reviews[rand] = reviews[rand], reviews[idx]"
      ],
      "metadata": {
        "id": "N6_adPXY6pfJ"
      },
      "execution_count": null,
      "outputs": []
    },
    {
      "cell_type": "code",
      "source": [
        "# Find accuracy in new data\n",
        "correct = 0\n",
        "total = 10000\n",
        "for idx in tqdm(range(total)):\n",
        "    if predict_sentiment(reviews[idx]) == int(scores[idx]):\n",
        "        correct += 1\n",
        "print(\"accuracy =\", correct / total)"
      ],
      "metadata": {
        "colab": {
          "base_uri": "https://localhost:8080/"
        },
        "id": "ewfl-LIRRIr5",
        "outputId": "ec371bcf-9bd9-40cc-f9aa-912b3b0c989d"
      },
      "execution_count": null,
      "outputs": [
        {
          "output_type": "stream",
          "name": "stderr",
          "text": [
            "100%|██████████| 10000/10000 [12:56<00:00, 12.88it/s]"
          ]
        },
        {
          "output_type": "stream",
          "name": "stdout",
          "text": [
            "accuracy = 0.6145\n"
          ]
        },
        {
          "output_type": "stream",
          "name": "stderr",
          "text": [
            "\n"
          ]
        }
      ]
    },
    {
      "cell_type": "code",
      "source": [
        "cap = 1000\n",
        "# Create new input and label\n",
        "label = [[0,0,0,0,0] for _ in range(cap)]\n",
        "inp = reviews[total : total + cap]\n",
        "for idx in range(total, total + cap):\n",
        "    curr_score = int(scores[idx]) - 1\n",
        "    label[idx - total][curr_score] = 1\n",
        "label = np.array(label)"
      ],
      "metadata": {
        "id": "3saRDitH_Z5p"
      },
      "execution_count": null,
      "outputs": []
    },
    {
      "cell_type": "code",
      "source": [
        "# Encode and pad\n",
        "encoded_docs = tokenizer.texts_to_sequences(inp)\n",
        "padded_sequence = pad_sequences(encoded_docs, maxlen=200)"
      ],
      "metadata": {
        "id": "D-7HCqPt_cYP"
      },
      "execution_count": null,
      "outputs": []
    },
    {
      "cell_type": "code",
      "source": [
        "# Architecture\n",
        "domain_adapt = keras.models.clone_model(baseline_model)\n",
        "domain_adapt.set_weights(baseline_model.get_weights())\n",
        "domain_adapt.compile(loss='categorical_crossentropy',optimizer='adam',metrics=['accuracy'])\n",
        "domain_adapt.layers[0].trainable = False\n",
        "print(domain_adapt.summary())"
      ],
      "metadata": {
        "colab": {
          "base_uri": "https://localhost:8080/"
        },
        "id": "WZCfKFO5_eCx",
        "outputId": "eb693e08-0c49-4907-a34e-27c1722b0e52"
      },
      "execution_count": null,
      "outputs": [
        {
          "output_type": "stream",
          "name": "stdout",
          "text": [
            "Model: \"sequential_21\"\n",
            "_________________________________________________________________\n",
            " Layer (type)                Output Shape              Param #   \n",
            "=================================================================\n",
            " embedding_21 (Embedding)    (None, 200, 32)           1908416   \n",
            "                                                                 \n",
            " spatial_dropout1d_21 (Spati  (None, 200, 32)          0         \n",
            " alDropout1D)                                                    \n",
            "                                                                 \n",
            " lstm_21 (LSTM)              (None, 50)                16600     \n",
            "                                                                 \n",
            " dropout_21 (Dropout)        (None, 50)                0         \n",
            "                                                                 \n",
            " dense_21 (Dense)            (None, 5)                 255       \n",
            "                                                                 \n",
            "=================================================================\n",
            "Total params: 1,925,271\n",
            "Trainable params: 16,855\n",
            "Non-trainable params: 1,908,416\n",
            "_________________________________________________________________\n",
            "None\n"
          ]
        }
      ]
    },
    {
      "cell_type": "code",
      "source": [
        "# Training\n",
        "training_adapt = domain_adapt.fit(padded_sequence,label,validation_split=0.2, epochs=10, batch_size=32)"
      ],
      "metadata": {
        "colab": {
          "base_uri": "https://localhost:8080/"
        },
        "id": "3Yn2Upf3_g0a",
        "outputId": "929243ce-f4f8-4d40-bdc9-12b149d0bf61"
      },
      "execution_count": null,
      "outputs": [
        {
          "output_type": "stream",
          "name": "stdout",
          "text": [
            "Epoch 1/10\n",
            "25/25 [==============================] - 9s 243ms/step - loss: 0.7916 - accuracy: 0.7225 - val_loss: 0.6119 - val_accuracy: 0.7900\n",
            "Epoch 2/10\n",
            "25/25 [==============================] - 5s 219ms/step - loss: 0.6285 - accuracy: 0.8100 - val_loss: 0.5206 - val_accuracy: 0.8150\n",
            "Epoch 3/10\n",
            "25/25 [==============================] - 6s 221ms/step - loss: 0.5797 - accuracy: 0.8225 - val_loss: 0.5051 - val_accuracy: 0.8350\n",
            "Epoch 4/10\n",
            "25/25 [==============================] - 5s 219ms/step - loss: 0.5714 - accuracy: 0.8175 - val_loss: 0.5017 - val_accuracy: 0.8350\n",
            "Epoch 5/10\n",
            "25/25 [==============================] - 6s 228ms/step - loss: 0.5431 - accuracy: 0.8263 - val_loss: 0.5036 - val_accuracy: 0.8350\n",
            "Epoch 6/10\n",
            "25/25 [==============================] - 6s 221ms/step - loss: 0.5463 - accuracy: 0.8213 - val_loss: 0.4993 - val_accuracy: 0.8400\n",
            "Epoch 7/10\n",
            "25/25 [==============================] - 6s 222ms/step - loss: 0.5128 - accuracy: 0.8313 - val_loss: 0.4935 - val_accuracy: 0.8400\n",
            "Epoch 8/10\n",
            "25/25 [==============================] - 6s 240ms/step - loss: 0.5347 - accuracy: 0.8250 - val_loss: 0.5053 - val_accuracy: 0.8450\n",
            "Epoch 9/10\n",
            "25/25 [==============================] - 5s 219ms/step - loss: 0.4921 - accuracy: 0.8388 - val_loss: 0.4974 - val_accuracy: 0.8350\n",
            "Epoch 10/10\n",
            "25/25 [==============================] - 6s 222ms/step - loss: 0.4964 - accuracy: 0.8363 - val_loss: 0.4930 - val_accuracy: 0.8350\n"
          ]
        }
      ]
    },
    {
      "cell_type": "code",
      "source": [
        "# Plot Accuracy\n",
        "plt.plot(training_adapt.history['accuracy'], label='acc')\n",
        "plt.plot(training_adapt.history['val_accuracy'], label='val_acc')\n",
        "plt.legend()\n",
        "plt.show()"
      ],
      "metadata": {
        "colab": {
          "base_uri": "https://localhost:8080/",
          "height": 265
        },
        "id": "_gb1xGhB_uBD",
        "outputId": "359e964f-3407-4695-d814-12fff28f5848"
      },
      "execution_count": null,
      "outputs": [
        {
          "output_type": "display_data",
          "data": {
            "text/plain": [
              "<Figure size 432x288 with 1 Axes>"
            ],
            "image/png": "[encoded data removed]"
          },
          "metadata": {
            "needs_background": "light"
          }
        }
      ]
    },
    {
      "cell_type": "code",
      "source": [
        "# Plot Loss\n",
        "plt.plot(training_adapt.history['loss'], label='loss')\n",
        "plt.plot(training_adapt.history['val_loss'], label='val_loss')\n",
        "plt.legend()\n",
        "plt.show()\n",
        "plt.savefig(\"Loss plt.jpg\")"
      ],
      "metadata": {
        "colab": {
          "base_uri": "https://localhost:8080/",
          "height": 282
        },
        "id": "P5sO9oxVdVQA",
        "outputId": "84b47418-8497-49cf-825e-f0812a82afa6"
      },
      "execution_count": null,
      "outputs": [
        {
          "output_type": "display_data",
          "data": {
            "text/plain": [
              "<Figure size 432x288 with 1 Axes>"
            ],
            "image/png": "[encoded data removed]"
          },
          "metadata": {
            "needs_background": "light"
          }
        },
        {
          "output_type": "display_data",
          "data": {
            "text/plain": [
              "<Figure size 432x288 with 0 Axes>"
            ]
          },
          "metadata": {}
        }
      ]
    },
    {
      "cell_type": "code",
      "source": [
        "# Make a sentiment analysis function for domain adapt\n",
        "def predict_sentiment_adapt(text):\n",
        "    tw = tokenizer.texts_to_sequences([text])\n",
        "    tw = pad_sequences(tw,maxlen=200)\n",
        "    dist = domain_adapt.predict(tw, verbose = 0)\n",
        "    high_prob = 0\n",
        "    score = 0\n",
        "    for idx in range(5):\n",
        "        if dist[0][idx] > high_prob:\n",
        "            high_prob = dist[0][idx]\n",
        "            score = idx\n",
        "    score += 1\n",
        "    return score"
      ],
      "metadata": {
        "id": "r6IWI43Pddpq"
      },
      "execution_count": null,
      "outputs": []
    },
    {
      "cell_type": "code",
      "source": [
        "correct = 0\n",
        "for idx in tqdm(range(total)):\n",
        "    if predict_sentiment_adapt(reviews[idx]) == int(scores[idx]):\n",
        "        correct += 1\n",
        "print(\"accuracy =\", correct / total)"
      ],
      "metadata": {
        "colab": {
          "base_uri": "https://localhost:8080/"
        },
        "id": "FrLhr4HTdmf3",
        "outputId": "543d7082-3ad4-4454-decc-f0c3df23e588"
      },
      "execution_count": null,
      "outputs": [
        {
          "output_type": "stream",
          "name": "stderr",
          "text": [
            "100%|██████████| 10000/10000 [12:40<00:00, 13.15it/s]"
          ]
        },
        {
          "output_type": "stream",
          "name": "stdout",
          "text": [
            "accuracy = 0.7971\n"
          ]
        },
        {
          "output_type": "stream",
          "name": "stderr",
          "text": [
            "\n"
          ]
        }
      ]
    }
  ]
}