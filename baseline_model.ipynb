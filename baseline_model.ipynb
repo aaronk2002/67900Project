{
  "nbformat": 4,
  "nbformat_minor": 0,
  "metadata": {
    "colab": {
      "provenance": []
    },
    "kernelspec": {
      "name": "python3",
      "display_name": "Python 3"
    },
    "language_info": {
      "name": "python"
    }
  },
  "cells": [
    {
      "cell_type": "code",
      "execution_count": null,
      "metadata": {
        "colab": {
          "base_uri": "https://localhost:8080/"
        },
        "id": "sj0r1Cr-rzNR",
        "outputId": "44ec6fa9-7f7a-4a25-bd4b-6084d999ebec"
      },
      "outputs": [
        {
          "output_type": "stream",
          "name": "stdout",
          "text": [
            "Looking in indexes: https://pypi.org/simple, https://us-python.pkg.dev/colab-wheels/public/simple/\n",
            "Requirement already satisfied: tensorflow in /usr/local/lib/python3.8/dist-packages (2.9.2)\n",
            "Requirement already satisfied: numpy>=1.20 in /usr/local/lib/python3.8/dist-packages (from tensorflow) (1.21.6)\n",
            "Requirement already satisfied: keras<2.10.0,>=2.9.0rc0 in /usr/local/lib/python3.8/dist-packages (from tensorflow) (2.9.0)\n",
            "Requirement already satisfied: tensorboard<2.10,>=2.9 in /usr/local/lib/python3.8/dist-packages (from tensorflow) (2.9.1)\n",
            "Requirement already satisfied: opt-einsum>=2.3.2 in /usr/local/lib/python3.8/dist-packages (from tensorflow) (3.3.0)\n",
            "Requirement already satisfied: protobuf<3.20,>=3.9.2 in /usr/local/lib/python3.8/dist-packages (from tensorflow) (3.19.6)\n",
            "Requirement already satisfied: keras-preprocessing>=1.1.1 in /usr/local/lib/python3.8/dist-packages (from tensorflow) (1.1.2)\n",
            "Requirement already satisfied: tensorflow-estimator<2.10.0,>=2.9.0rc0 in /usr/local/lib/python3.8/dist-packages (from tensorflow) (2.9.0)\n",
            "Requirement already satisfied: absl-py>=1.0.0 in /usr/local/lib/python3.8/dist-packages (from tensorflow) (1.3.0)\n",
            "Requirement already satisfied: packaging in /usr/local/lib/python3.8/dist-packages (from tensorflow) (21.3)\n",
            "Requirement already satisfied: wrapt>=1.11.0 in /usr/local/lib/python3.8/dist-packages (from tensorflow) (1.14.1)\n",
            "Requirement already satisfied: google-pasta>=0.1.1 in /usr/local/lib/python3.8/dist-packages (from tensorflow) (0.2.0)\n",
            "Requirement already satisfied: astunparse>=1.6.0 in /usr/local/lib/python3.8/dist-packages (from tensorflow) (1.6.3)\n",
            "Requirement already satisfied: six>=1.12.0 in /usr/local/lib/python3.8/dist-packages (from tensorflow) (1.15.0)\n",
            "Requirement already satisfied: gast<=0.4.0,>=0.2.1 in /usr/local/lib/python3.8/dist-packages (from tensorflow) (0.4.0)\n",
            "Requirement already satisfied: setuptools in /usr/local/lib/python3.8/dist-packages (from tensorflow) (57.4.0)\n",
            "Requirement already satisfied: h5py>=2.9.0 in /usr/local/lib/python3.8/dist-packages (from tensorflow) (3.1.0)\n",
            "Requirement already satisfied: tensorflow-io-gcs-filesystem>=0.23.1 in /usr/local/lib/python3.8/dist-packages (from tensorflow) (0.28.0)\n",
            "Requirement already satisfied: termcolor>=1.1.0 in /usr/local/lib/python3.8/dist-packages (from tensorflow) (2.1.1)\n",
            "Requirement already satisfied: grpcio<2.0,>=1.24.3 in /usr/local/lib/python3.8/dist-packages (from tensorflow) (1.51.1)\n",
            "Requirement already satisfied: libclang>=13.0.0 in /usr/local/lib/python3.8/dist-packages (from tensorflow) (14.0.6)\n",
            "Requirement already satisfied: typing-extensions>=3.6.6 in /usr/local/lib/python3.8/dist-packages (from tensorflow) (4.4.0)\n",
            "Requirement already satisfied: flatbuffers<2,>=1.12 in /usr/local/lib/python3.8/dist-packages (from tensorflow) (1.12)\n",
            "Requirement already satisfied: wheel<1.0,>=0.23.0 in /usr/local/lib/python3.8/dist-packages (from astunparse>=1.6.0->tensorflow) (0.38.4)\n",
            "Requirement already satisfied: google-auth-oauthlib<0.5,>=0.4.1 in /usr/local/lib/python3.8/dist-packages (from tensorboard<2.10,>=2.9->tensorflow) (0.4.6)\n",
            "Requirement already satisfied: requests<3,>=2.21.0 in /usr/local/lib/python3.8/dist-packages (from tensorboard<2.10,>=2.9->tensorflow) (2.23.0)\n",
            "Requirement already satisfied: tensorboard-plugin-wit>=1.6.0 in /usr/local/lib/python3.8/dist-packages (from tensorboard<2.10,>=2.9->tensorflow) (1.8.1)\n",
            "Requirement already satisfied: tensorboard-data-server<0.7.0,>=0.6.0 in /usr/local/lib/python3.8/dist-packages (from tensorboard<2.10,>=2.9->tensorflow) (0.6.1)\n",
            "Requirement already satisfied: google-auth<3,>=1.6.3 in /usr/local/lib/python3.8/dist-packages (from tensorboard<2.10,>=2.9->tensorflow) (2.15.0)\n",
            "Requirement already satisfied: werkzeug>=1.0.1 in /usr/local/lib/python3.8/dist-packages (from tensorboard<2.10,>=2.9->tensorflow) (1.0.1)\n",
            "Requirement already satisfied: markdown>=2.6.8 in /usr/local/lib/python3.8/dist-packages (from tensorboard<2.10,>=2.9->tensorflow) (3.4.1)\n",
            "Requirement already satisfied: rsa<5,>=3.1.4 in /usr/local/lib/python3.8/dist-packages (from google-auth<3,>=1.6.3->tensorboard<2.10,>=2.9->tensorflow) (4.9)\n",
            "Requirement already satisfied: cachetools<6.0,>=2.0.0 in /usr/local/lib/python3.8/dist-packages (from google-auth<3,>=1.6.3->tensorboard<2.10,>=2.9->tensorflow) (5.2.0)\n",
            "Requirement already satisfied: pyasn1-modules>=0.2.1 in /usr/local/lib/python3.8/dist-packages (from google-auth<3,>=1.6.3->tensorboard<2.10,>=2.9->tensorflow) (0.2.8)\n",
            "Requirement already satisfied: requests-oauthlib>=0.7.0 in /usr/local/lib/python3.8/dist-packages (from google-auth-oauthlib<0.5,>=0.4.1->tensorboard<2.10,>=2.9->tensorflow) (1.3.1)\n",
            "Requirement already satisfied: importlib-metadata>=4.4 in /usr/local/lib/python3.8/dist-packages (from markdown>=2.6.8->tensorboard<2.10,>=2.9->tensorflow) (4.13.0)\n",
            "Requirement already satisfied: zipp>=0.5 in /usr/local/lib/python3.8/dist-packages (from importlib-metadata>=4.4->markdown>=2.6.8->tensorboard<2.10,>=2.9->tensorflow) (3.11.0)\n",
            "Requirement already satisfied: pyasn1<0.5.0,>=0.4.6 in /usr/local/lib/python3.8/dist-packages (from pyasn1-modules>=0.2.1->google-auth<3,>=1.6.3->tensorboard<2.10,>=2.9->tensorflow) (0.4.8)\n",
            "Requirement already satisfied: chardet<4,>=3.0.2 in /usr/local/lib/python3.8/dist-packages (from requests<3,>=2.21.0->tensorboard<2.10,>=2.9->tensorflow) (3.0.4)\n",
            "Requirement already satisfied: certifi>=2017.4.17 in /usr/local/lib/python3.8/dist-packages (from requests<3,>=2.21.0->tensorboard<2.10,>=2.9->tensorflow) (2022.9.24)\n",
            "Requirement already satisfied: idna<3,>=2.5 in /usr/local/lib/python3.8/dist-packages (from requests<3,>=2.21.0->tensorboard<2.10,>=2.9->tensorflow) (2.10)\n",
            "Requirement already satisfied: urllib3!=1.25.0,!=1.25.1,<1.26,>=1.21.1 in /usr/local/lib/python3.8/dist-packages (from requests<3,>=2.21.0->tensorboard<2.10,>=2.9->tensorflow) (1.24.3)\n",
            "Requirement already satisfied: oauthlib>=3.0.0 in /usr/local/lib/python3.8/dist-packages (from requests-oauthlib>=0.7.0->google-auth-oauthlib<0.5,>=0.4.1->tensorboard<2.10,>=2.9->tensorflow) (3.2.2)\n",
            "Requirement already satisfied: pyparsing!=3.0.5,>=2.0.2 in /usr/local/lib/python3.8/dist-packages (from packaging->tensorflow) (3.0.9)\n"
          ]
        }
      ],
      "source": [
        "pip install tensorflow"
      ]
    },
    {
      "cell_type": "code",
      "source": [
        "import pandas as pd\n",
        "import matplotlib.pyplot as plt\n",
        "import keras\n",
        "from tqdm import tqdm\n",
        "from random import randint\n",
        "from tensorflow.keras.preprocessing.text import Tokenizer\n",
        "from tensorflow.keras.preprocessing.sequence import pad_sequences\n",
        "from tensorflow.keras.models import Sequential\n",
        "from tensorflow.keras.layers import LSTM,Dense, Dropout, SpatialDropout1D\n",
        "from tensorflow.keras.layers import Embedding\n",
        "from tensorflow.keras.layers import Lambda\n",
        "from tensorflow.keras.losses import MeanSquaredError\n",
        "import numpy as np\n",
        "import json\n",
        "from google.colab import drive\n",
        "drive.mount('/drive')"
      ],
      "metadata": {
        "colab": {
          "base_uri": "https://localhost:8080/"
        },
        "id": "SXcrv3i3tgzK",
        "outputId": "abca22f3-c1d9-470c-b22f-d621105e2110"
      },
      "execution_count": null,
      "outputs": [
        {
          "output_type": "stream",
          "name": "stdout",
          "text": [
            "Mounted at /drive\n"
          ]
        }
      ]
    },
    {
      "cell_type": "code",
      "source": [
        "# Extract data in a dataframe\n",
        "reviews = []\n",
        "scores = []\n",
        "n = 0\n",
        "with open(\"/drive/My Drive/6.7900 project/reviews_Amazon_Instant_Video_5.json\", \"r\") as file:\n",
        "    for line in file:\n",
        "        loaded = json.loads(line)\n",
        "        reviews.append(loaded[\"reviewText\"])\n",
        "        scores.append(loaded[\"overall\"])\n",
        "        n += 1"
      ],
      "metadata": {
        "id": "G6T1aRIbz5r1"
      },
      "execution_count": null,
      "outputs": []
    },
    {
      "cell_type": "code",
      "source": [
        "print(len(reviews))"
      ],
      "metadata": {
        "colab": {
          "base_uri": "https://localhost:8080/"
        },
        "id": "udMVPhQpz9eQ",
        "outputId": "5429ca86-90d5-4d2c-b38d-7796e5f252f7"
      },
      "execution_count": null,
      "outputs": [
        {
          "output_type": "stream",
          "name": "stdout",
          "text": [
            "37126\n"
          ]
        }
      ]
    },
    {
      "cell_type": "code",
      "source": [
        "# Create input and label\n",
        "label = [[0,0,0,0,0] for _ in scores]\n",
        "inp = reviews\n",
        "for idx in range(len(scores)):\n",
        "    curr_score = int(scores[idx]) - 1\n",
        "    label[idx][curr_score] = 1"
      ],
      "metadata": {
        "id": "VnUBCbCuuZNT"
      },
      "execution_count": null,
      "outputs": []
    },
    {
      "cell_type": "code",
      "source": [
        "# Randomize\n",
        "for idx in range(1, n):\n",
        "    rand = randint(0, idx)\n",
        "    label[idx], label[rand] = label[rand], label[idx]\n",
        "    inp[idx], inp[rand] = inp[rand], inp[idx]\n",
        "label = np.array(label)\n",
        "inp = np.array(inp)"
      ],
      "metadata": {
        "id": "DEtpVN5pob1e"
      },
      "execution_count": null,
      "outputs": []
    },
    {
      "cell_type": "code",
      "source": [
        "# Tokenize, encode, and pad\n",
        "tokenizer = Tokenizer(num_words=5000)\n",
        "tokenizer.fit_on_texts(inp)\n",
        "encoded_docs = tokenizer.texts_to_sequences(inp)\n",
        "padded_sequence = pad_sequences(encoded_docs, maxlen=200)"
      ],
      "metadata": {
        "id": "dgl3H9BmvznM"
      },
      "execution_count": null,
      "outputs": []
    },
    {
      "cell_type": "code",
      "source": [
        "# Baseline Model\n",
        "embedding_vector_length = 32\n",
        "vocab_size = len(tokenizer.word_index)\n",
        "baseline_model = Sequential()\n",
        "baseline_model.add(Embedding(vocab_size, embedding_vector_length, input_length=200))\n",
        "baseline_model.add(SpatialDropout1D(0.25))\n",
        "baseline_model.add(LSTM(50, dropout=0.5, recurrent_dropout=0.5))\n",
        "baseline_model.add(Dropout(0.2))\n",
        "baseline_model.add(Dense(5, activation='softmax'))\n",
        "baseline_model.compile(loss='categorical_crossentropy',optimizer='adam',metrics=['accuracy'])\n",
        "print(baseline_model.summary())"
      ],
      "metadata": {
        "colab": {
          "base_uri": "https://localhost:8080/"
        },
        "id": "SheGZnAev1wX",
        "outputId": "7b6fd664-cfce-4aa0-dd65-0634713d9905"
      },
      "execution_count": null,
      "outputs": [
        {
          "output_type": "stream",
          "name": "stdout",
          "text": [
            "Model: \"sequential\"\n",
            "_________________________________________________________________\n",
            " Layer (type)                Output Shape              Param #   \n",
            "=================================================================\n",
            " embedding (Embedding)       (None, 200, 32)           1908416   \n",
            "                                                                 \n",
            " spatial_dropout1d (SpatialD  (None, 200, 32)          0         \n",
            " ropout1D)                                                       \n",
            "                                                                 \n",
            " lstm (LSTM)                 (None, 50)                16600     \n",
            "                                                                 \n",
            " dropout (Dropout)           (None, 50)                0         \n",
            "                                                                 \n",
            " dense (Dense)               (None, 5)                 255       \n",
            "                                                                 \n",
            "=================================================================\n",
            "Total params: 1,925,271\n",
            "Trainable params: 1,925,271\n",
            "Non-trainable params: 0\n",
            "_________________________________________________________________\n",
            "None\n"
          ]
        }
      ]
    },
    {
      "cell_type": "code",
      "source": [
        "# Training\n",
        "training = baseline_model.fit(padded_sequence,label,validation_split=0.2, epochs=25, batch_size=32)"
      ],
      "metadata": {
        "colab": {
          "base_uri": "https://localhost:8080/"
        },
        "id": "qbpGUFDmv3nK",
        "outputId": "1781dbe9-5794-4405-f1cf-554193cfdb57"
      },
      "execution_count": null,
      "outputs": [
        {
          "output_type": "stream",
          "name": "stdout",
          "text": [
            "Epoch 1/25\n",
            "929/929 [==============================] - 149s 158ms/step - loss: 1.0640 - accuracy: 0.5793 - val_loss: 0.9440 - val_accuracy: 0.6100\n",
            "Epoch 2/25\n",
            "929/929 [==============================] - 147s 158ms/step - loss: 0.9243 - accuracy: 0.6178 - val_loss: 0.9152 - val_accuracy: 0.6287\n",
            "Epoch 3/25\n",
            "929/929 [==============================] - 145s 156ms/step - loss: 0.8936 - accuracy: 0.6334 - val_loss: 0.9151 - val_accuracy: 0.6223\n",
            "Epoch 4/25\n",
            "929/929 [==============================] - 149s 160ms/step - loss: 0.8562 - accuracy: 0.6416 - val_loss: 0.8833 - val_accuracy: 0.6359\n",
            "Epoch 5/25\n",
            "929/929 [==============================] - 146s 157ms/step - loss: 0.8224 - accuracy: 0.6569 - val_loss: 0.9037 - val_accuracy: 0.6286\n",
            "Epoch 6/25\n",
            "929/929 [==============================] - 149s 160ms/step - loss: 0.8079 - accuracy: 0.6644 - val_loss: 0.8800 - val_accuracy: 0.6382\n",
            "Epoch 7/25\n",
            "929/929 [==============================] - 148s 159ms/step - loss: 0.7945 - accuracy: 0.6696 - val_loss: 0.9564 - val_accuracy: 0.6359\n",
            "Epoch 8/25\n",
            "929/929 [==============================] - 143s 154ms/step - loss: 0.7817 - accuracy: 0.6772 - val_loss: 0.8950 - val_accuracy: 0.6361\n",
            "Epoch 9/25\n",
            "929/929 [==============================] - 146s 158ms/step - loss: 0.7677 - accuracy: 0.6842 - val_loss: 0.9193 - val_accuracy: 0.6356\n",
            "Epoch 10/25\n",
            "929/929 [==============================] - 150s 161ms/step - loss: 0.7556 - accuracy: 0.6859 - val_loss: 0.9289 - val_accuracy: 0.6352\n",
            "Epoch 11/25\n",
            "929/929 [==============================] - 148s 159ms/step - loss: 0.7462 - accuracy: 0.6935 - val_loss: 0.9140 - val_accuracy: 0.6368\n",
            "Epoch 12/25\n",
            "929/929 [==============================] - 150s 161ms/step - loss: 0.7372 - accuracy: 0.6951 - val_loss: 0.9201 - val_accuracy: 0.6371\n",
            "Epoch 13/25\n",
            "929/929 [==============================] - 148s 159ms/step - loss: 0.7271 - accuracy: 0.6989 - val_loss: 0.9496 - val_accuracy: 0.6344\n",
            "Epoch 14/25\n",
            "929/929 [==============================] - 149s 160ms/step - loss: 0.7172 - accuracy: 0.7078 - val_loss: 0.9437 - val_accuracy: 0.6348\n",
            "Epoch 15/25\n",
            "929/929 [==============================] - 147s 159ms/step - loss: 0.7080 - accuracy: 0.7095 - val_loss: 0.9517 - val_accuracy: 0.6340\n",
            "Epoch 16/25\n",
            "929/929 [==============================] - 149s 160ms/step - loss: 0.7049 - accuracy: 0.7108 - val_loss: 1.0044 - val_accuracy: 0.6317\n",
            "Epoch 17/25\n",
            "929/929 [==============================] - 148s 159ms/step - loss: 0.6923 - accuracy: 0.7142 - val_loss: 0.9552 - val_accuracy: 0.6326\n",
            "Epoch 18/25\n",
            "929/929 [==============================] - 150s 161ms/step - loss: 0.6838 - accuracy: 0.7228 - val_loss: 0.9837 - val_accuracy: 0.6306\n",
            "Epoch 19/25\n",
            "929/929 [==============================] - 147s 159ms/step - loss: 0.6771 - accuracy: 0.7230 - val_loss: 1.0256 - val_accuracy: 0.6361\n",
            "Epoch 20/25\n",
            "929/929 [==============================] - 149s 161ms/step - loss: 0.6681 - accuracy: 0.7289 - val_loss: 0.9754 - val_accuracy: 0.6306\n",
            "Epoch 21/25\n",
            "929/929 [==============================] - 147s 158ms/step - loss: 0.6593 - accuracy: 0.7313 - val_loss: 1.0354 - val_accuracy: 0.6325\n",
            "Epoch 22/25\n",
            "929/929 [==============================] - 149s 160ms/step - loss: 0.6554 - accuracy: 0.7299 - val_loss: 1.0203 - val_accuracy: 0.6337\n",
            "Epoch 23/25\n",
            "929/929 [==============================] - 148s 159ms/step - loss: 0.6520 - accuracy: 0.7328 - val_loss: 1.0443 - val_accuracy: 0.6246\n",
            "Epoch 24/25\n",
            "929/929 [==============================] - 150s 161ms/step - loss: 0.6434 - accuracy: 0.7402 - val_loss: 1.0277 - val_accuracy: 0.6269\n",
            "Epoch 25/25\n",
            "929/929 [==============================] - 147s 158ms/step - loss: 0.6368 - accuracy: 0.7464 - val_loss: 1.0579 - val_accuracy: 0.6264\n"
          ]
        }
      ]
    },
    {
      "cell_type": "code",
      "source": [
        "# Plot Accuracy\n",
        "plt.plot(training.history['accuracy'], label='acc')\n",
        "plt.plot(training.history['val_accuracy'], label='val_acc')\n",
        "plt.legend()\n",
        "plt.show()"
      ],
      "metadata": {
        "id": "UMFJCq1hv66Q",
        "colab": {
          "base_uri": "https://localhost:8080/",
          "height": 265
        },
        "outputId": "fe0ea6d0-821c-400f-9b24-ca01572b8812"
      },
      "execution_count": null,
      "outputs": [
        {
          "output_type": "display_data",
          "data": {
            "text/plain": [
              "<Figure size 432x288 with 1 Axes>"
            ],
            "image/png": "[encoded data removed]"
          },
          "metadata": {
            "needs_background": "light"
          }
        }
      ]
    },
    {
      "cell_type": "code",
      "source": [
        "# Plot Loss\n",
        "plt.plot(training.history['loss'], label='loss')\n",
        "plt.plot(training.history['val_loss'], label='val_loss')\n",
        "plt.legend()\n",
        "plt.show()\n",
        "plt.savefig(\"Loss plt.jpg\")"
      ],
      "metadata": {
        "id": "ti4XWWjrwftI",
        "colab": {
          "base_uri": "https://localhost:8080/",
          "height": 282
        },
        "outputId": "c724e927-c6c0-4a04-ecce-137e3b4de885"
      },
      "execution_count": null,
      "outputs": [
        {
          "output_type": "display_data",
          "data": {
            "text/plain": [
              "<Figure size 432x288 with 1 Axes>"
            ],
            "image/png": "[encoded data removed]"
          },
          "metadata": {
            "needs_background": "light"
          }
        },
        {
          "output_type": "display_data",
          "data": {
            "text/plain": [
              "<Figure size 432x288 with 0 Axes>"
            ]
          },
          "metadata": {}
        }
      ]
    },
    {
      "cell_type": "code",
      "source": [
        "# Make a sentiment analysis function\n",
        "def predict_sentiment(text):\n",
        "    tw = tokenizer.texts_to_sequences([text])\n",
        "    tw = pad_sequences(tw,maxlen=200)\n",
        "    dist = baseline_model.predict(tw, verbose = 0)\n",
        "    high_prob = 0\n",
        "    score = 0\n",
        "    for idx in range(5):\n",
        "        if dist[0][idx] > high_prob:\n",
        "            high_prob = dist[0][idx]\n",
        "            score = idx\n",
        "    score += 1\n",
        "    return score"
      ],
      "metadata": {
        "id": "j9Yg-ofBwhfc"
      },
      "execution_count": null,
      "outputs": []
    },
    {
      "cell_type": "code",
      "source": [
        "# Extract new data\n",
        "reviews = []\n",
        "scores = []\n",
        "with open(\"/drive/My Drive/6.7900 project/Digital_Music_5.json\", \"r\") as file:\n",
        "    for line in file:\n",
        "        loaded = json.loads(line)\n",
        "        if \"reviewText\" in loaded and \"overall\" in loaded:\n",
        "            reviews.append(loaded[\"reviewText\"])\n",
        "            scores.append(loaded[\"overall\"])"
      ],
      "metadata": {
        "id": "PubXFlJCRH-e"
      },
      "execution_count": null,
      "outputs": []
    },
    {
      "cell_type": "code",
      "source": [
        "# Randomize sequence\n",
        "for idx in range(1, n):\n",
        "    rand = randint(0, idx)\n",
        "    scores[idx], scores[rand] = scores[rand], scores[idx]\n",
        "    reviews[idx], reviews[rand] = reviews[rand], reviews[idx]"
      ],
      "metadata": {
        "id": "plQxV_7fCp44"
      },
      "execution_count": null,
      "outputs": []
    },
    {
      "cell_type": "code",
      "source": [
        "# Find accuracy in new data\n",
        "correct = 0\n",
        "total = 10000\n",
        "for idx in tqdm(range(total)):\n",
        "    if predict_sentiment(reviews[idx]) == int(scores[idx]):\n",
        "        correct += 1\n",
        "print(\"accuracy =\", correct / total)"
      ],
      "metadata": {
        "id": "ewfl-LIRRIr5",
        "colab": {
          "base_uri": "https://localhost:8080/"
        },
        "outputId": "ee166db6-ae11-4c29-c148-b9eef8526c26"
      },
      "execution_count": null,
      "outputs": [
        {
          "output_type": "stream",
          "name": "stderr",
          "text": [
            "100%|██████████| 10000/10000 [08:02<00:00, 20.75it/s]"
          ]
        },
        {
          "output_type": "stream",
          "name": "stdout",
          "text": [
            "accuracy = 0.7681\n"
          ]
        },
        {
          "output_type": "stream",
          "name": "stderr",
          "text": [
            "\n"
          ]
        }
      ]
    },
    {
      "cell_type": "code",
      "source": [
        "cap = 1000\n",
        "# Create new input and label\n",
        "label = [[0,0,0,0,0] for _ in range(cap)]\n",
        "inp = reviews[total : total + cap]\n",
        "for idx in range(total, total + cap):\n",
        "    curr_score = int(scores[idx]) - 1\n",
        "    label[idx - total][curr_score] = 1\n",
        "label = np.array(label)"
      ],
      "metadata": {
        "id": "8W5P8A64UK6r"
      },
      "execution_count": null,
      "outputs": []
    },
    {
      "cell_type": "code",
      "source": [
        "# Encode and pad\n",
        "encoded_docs = tokenizer.texts_to_sequences(inp)\n",
        "padded_sequence = pad_sequences(encoded_docs, maxlen=200)"
      ],
      "metadata": {
        "id": "V-CQg4eaUMdx"
      },
      "execution_count": null,
      "outputs": []
    },
    {
      "cell_type": "code",
      "source": [
        "# Architecture\n",
        "domain_adapt = keras.models.clone_model(baseline_model)\n",
        "domain_adapt.set_weights(baseline_model.get_weights())\n",
        "domain_adapt.compile(loss='categorical_crossentropy',optimizer='adam',metrics=['accuracy'])\n",
        "domain_adapt.layers[0].trainable = False\n",
        "print(domain_adapt.summary())"
      ],
      "metadata": {
        "colab": {
          "base_uri": "https://localhost:8080/"
        },
        "id": "ez0AGPcdUNyh",
        "outputId": "d88eeaca-179c-453f-ccad-31a0a0c69585"
      },
      "execution_count": null,
      "outputs": [
        {
          "output_type": "stream",
          "name": "stdout",
          "text": [
            "Model: \"sequential\"\n",
            "_________________________________________________________________\n",
            " Layer (type)                Output Shape              Param #   \n",
            "=================================================================\n",
            " embedding (Embedding)       (None, 200, 32)           1908416   \n",
            "                                                                 \n",
            " spatial_dropout1d (SpatialD  (None, 200, 32)          0         \n",
            " ropout1D)                                                       \n",
            "                                                                 \n",
            " lstm (LSTM)                 (None, 50)                16600     \n",
            "                                                                 \n",
            " dropout (Dropout)           (None, 50)                0         \n",
            "                                                                 \n",
            " dense (Dense)               (None, 5)                 255       \n",
            "                                                                 \n",
            "=================================================================\n",
            "Total params: 1,925,271\n",
            "Trainable params: 16,855\n",
            "Non-trainable params: 1,908,416\n",
            "_________________________________________________________________\n",
            "None\n"
          ]
        }
      ]
    },
    {
      "cell_type": "code",
      "source": [
        "# Training\n",
        "training_adapt = domain_adapt.fit(padded_sequence,label,validation_split=0.2, epochs=10, batch_size=32)"
      ],
      "metadata": {
        "colab": {
          "base_uri": "https://localhost:8080/"
        },
        "id": "pDNMOdtlUPGI",
        "outputId": "8c5cb3ee-b860-4a91-ce28-810fe3b0587b"
      },
      "execution_count": null,
      "outputs": [
        {
          "output_type": "stream",
          "name": "stdout",
          "text": [
            "Epoch 1/10\n",
            "25/25 [==============================] - 9s 201ms/step - loss: 0.6744 - accuracy: 0.7837 - val_loss: 0.5278 - val_accuracy: 0.8350\n",
            "Epoch 2/10\n",
            "25/25 [==============================] - 3s 128ms/step - loss: 0.5873 - accuracy: 0.8163 - val_loss: 0.5084 - val_accuracy: 0.8550\n",
            "Epoch 3/10\n",
            "25/25 [==============================] - 3s 128ms/step - loss: 0.5545 - accuracy: 0.8263 - val_loss: 0.5074 - val_accuracy: 0.8600\n",
            "Epoch 4/10\n",
            "25/25 [==============================] - 3s 126ms/step - loss: 0.5159 - accuracy: 0.8363 - val_loss: 0.5147 - val_accuracy: 0.8450\n",
            "Epoch 5/10\n",
            "25/25 [==============================] - 3s 127ms/step - loss: 0.4976 - accuracy: 0.8338 - val_loss: 0.5200 - val_accuracy: 0.8500\n",
            "Epoch 6/10\n",
            "25/25 [==============================] - 3s 130ms/step - loss: 0.4753 - accuracy: 0.8450 - val_loss: 0.5261 - val_accuracy: 0.8400\n",
            "Epoch 7/10\n",
            "25/25 [==============================] - 3s 131ms/step - loss: 0.4674 - accuracy: 0.8475 - val_loss: 0.5405 - val_accuracy: 0.8350\n",
            "Epoch 8/10\n",
            "25/25 [==============================] - 3s 132ms/step - loss: 0.4399 - accuracy: 0.8438 - val_loss: 0.5452 - val_accuracy: 0.8400\n",
            "Epoch 9/10\n",
            "25/25 [==============================] - 3s 131ms/step - loss: 0.4121 - accuracy: 0.8700 - val_loss: 0.5739 - val_accuracy: 0.8400\n",
            "Epoch 10/10\n",
            "25/25 [==============================] - 3s 128ms/step - loss: 0.4014 - accuracy: 0.8700 - val_loss: 0.5529 - val_accuracy: 0.8300\n"
          ]
        }
      ]
    },
    {
      "cell_type": "code",
      "source": [
        "# Plot Accuracy\n",
        "plt.plot(training_adapt.history['accuracy'], label='acc')\n",
        "plt.plot(training_adapt.history['val_accuracy'], label='val_acc')\n",
        "plt.legend()\n",
        "plt.show()"
      ],
      "metadata": {
        "colab": {
          "base_uri": "https://localhost:8080/",
          "height": 265
        },
        "id": "Kon--0KSUQY9",
        "outputId": "34643d02-f826-4c56-efac-f19b1f3e4426"
      },
      "execution_count": null,
      "outputs": [
        {
          "output_type": "display_data",
          "data": {
            "text/plain": [
              "<Figure size 432x288 with 1 Axes>"
            ],
            "image/png": "[encoded data removed]"
          },
          "metadata": {
            "needs_background": "light"
          }
        }
      ]
    },
    {
      "cell_type": "code",
      "source": [
        "# Plot Loss\n",
        "plt.plot(training_adapt.history['loss'], label='loss')\n",
        "plt.plot(training_adapt.history['val_loss'], label='val_loss')\n",
        "plt.legend()\n",
        "plt.show()\n",
        "plt.savefig(\"Loss plt.jpg\")"
      ],
      "metadata": {
        "colab": {
          "base_uri": "https://localhost:8080/",
          "height": 282
        },
        "id": "jlr3GFM1URiB",
        "outputId": "12a2e6ec-a054-4da1-f374-5b8691f0aa0c"
      },
      "execution_count": null,
      "outputs": [
        {
          "output_type": "display_data",
          "data": {
            "text/plain": [
              "<Figure size 432x288 with 1 Axes>"
            ],
            "image/png": "[encoded data removed]"
          },
          "metadata": {
            "needs_background": "light"
          }
        },
        {
          "output_type": "display_data",
          "data": {
            "text/plain": [
              "<Figure size 432x288 with 0 Axes>"
            ]
          },
          "metadata": {}
        }
      ]
    },
    {
      "cell_type": "code",
      "source": [
        "# Make a sentiment analysis function for domain adapt\n",
        "def predict_sentiment_adapt(text):\n",
        "    tw = tokenizer.texts_to_sequences([text])\n",
        "    tw = pad_sequences(tw,maxlen=200)\n",
        "    dist = domain_adapt.predict(tw, verbose = 0)\n",
        "    high_prob = 0\n",
        "    score = 0\n",
        "    for idx in range(5):\n",
        "        if dist[0][idx] > high_prob:\n",
        "            high_prob = dist[0][idx]\n",
        "            score = idx\n",
        "    score += 1\n",
        "    return score"
      ],
      "metadata": {
        "id": "wV1z3-ddUTAH"
      },
      "execution_count": null,
      "outputs": []
    },
    {
      "cell_type": "code",
      "source": [
        "correct = 0\n",
        "for idx in tqdm(range(total)):\n",
        "    if predict_sentiment_adapt(reviews[idx]) == int(scores[idx]):\n",
        "        correct += 1\n",
        "print(\"accuracy =\", correct / total)"
      ],
      "metadata": {
        "id": "FrLhr4HTdmf3",
        "colab": {
          "base_uri": "https://localhost:8080/"
        },
        "outputId": "c60f381b-6cbf-4a2d-a3d8-6e8e06ed4c7d"
      },
      "execution_count": null,
      "outputs": [
        {
          "output_type": "stream",
          "name": "stderr",
          "text": [
            "100%|██████████| 10000/10000 [08:29<00:00, 19.64it/s]"
          ]
        },
        {
          "output_type": "stream",
          "name": "stdout",
          "text": [
            "accuracy = 0.8101\n"
          ]
        },
        {
          "output_type": "stream",
          "name": "stderr",
          "text": [
            "\n"
          ]
        }
      ]
    }
  ]
}